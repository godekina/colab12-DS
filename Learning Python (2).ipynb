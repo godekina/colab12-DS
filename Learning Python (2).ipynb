{
 "cells": [
  {
   "cell_type": "markdown",
   "id": "00108f4e",
   "metadata": {},
   "source": [
    "## Python Strings"
   ]
  },
  {
   "cell_type": "code",
   "execution_count": 1,
   "id": "d2dc119a",
   "metadata": {
    "collapsed": true,
    "jupyter": {
     "outputs_hidden": true
    }
   },
   "outputs": [
    {
     "data": {
      "text/plain": [
       "'Ismail'"
      ]
     },
     "execution_count": 1,
     "metadata": {},
     "output_type": "execute_result"
    }
   ],
   "source": [
    "# this is a string\n",
    "'Ismail'"
   ]
  },
  {
   "cell_type": "code",
   "execution_count": null,
   "id": "e835c92b",
   "metadata": {},
   "outputs": [],
   "source": [
    "type('Ismail')"
   ]
  },
  {
   "cell_type": "code",
   "execution_count": null,
   "id": "c267895b",
   "metadata": {},
   "outputs": [],
   "source": [
    "campus = \"CoLab Innovation Campus\""
   ]
  },
  {
   "cell_type": "code",
   "execution_count": null,
   "id": "f61565b2",
   "metadata": {},
   "outputs": [],
   "source": [
    "print(campus)"
   ]
  },
  {
   "cell_type": "code",
   "execution_count": null,
   "id": "84793d3c",
   "metadata": {},
   "outputs": [],
   "source": [
    "fullname = \"Gideon Odekina\""
   ]
  },
  {
   "cell_type": "code",
   "execution_count": null,
   "id": "f402177a",
   "metadata": {},
   "outputs": [],
   "source": [
    "print(fullname)"
   ]
  },
  {
   "cell_type": "code",
   "execution_count": null,
   "id": "3ef54788",
   "metadata": {},
   "outputs": [],
   "source": [
    "name = 'Python'\n",
    "print(name)"
   ]
  },
  {
   "cell_type": "code",
   "execution_count": null,
   "id": "c43cb233",
   "metadata": {},
   "outputs": [],
   "source": [
    "print(name)"
   ]
  },
  {
   "cell_type": "code",
   "execution_count": null,
   "id": "c73a2c30",
   "metadata": {},
   "outputs": [],
   "source": [
    "multiline = '''\n",
    "No.1 Barnawa Road,\n",
    "Barnawa, \n",
    "Kaduna\n",
    "Nigeria\n",
    "West Africa\n",
    "'''\n",
    "print(multiline)"
   ]
  },
  {
   "cell_type": "code",
   "execution_count": null,
   "id": "fe5f9772",
   "metadata": {},
   "outputs": [],
   "source": [
    "type??"
   ]
  },
  {
   "cell_type": "code",
   "execution_count": null,
   "id": "e7f7b4c6",
   "metadata": {},
   "outputs": [],
   "source": [
    "print('Allison', 'Gideon', 'Abdulhamid', sep = '**')"
   ]
  },
  {
   "cell_type": "code",
   "execution_count": null,
   "id": "52353eae",
   "metadata": {},
   "outputs": [],
   "source": [
    "# Type casting"
   ]
  },
  {
   "cell_type": "code",
   "execution_count": null,
   "id": "382b6090",
   "metadata": {},
   "outputs": [],
   "source": [
    "# how do we escape single quote within strings?\n",
    "\"Mohammed's Laptop\""
   ]
  },
  {
   "cell_type": "code",
   "execution_count": null,
   "id": "50b8e401",
   "metadata": {},
   "outputs": [],
   "source": [
    "# using the backslash\n",
    "'Mohammed\\'s Laptop'"
   ]
  },
  {
   "cell_type": "code",
   "execution_count": null,
   "id": "3d130c93",
   "metadata": {},
   "outputs": [],
   "source": [
    "name_stud = '   John Doe   '"
   ]
  },
  {
   "cell_type": "code",
   "execution_count": null,
   "id": "1cea2d38",
   "metadata": {
    "scrolled": true
   },
   "outputs": [],
   "source": [
    "name_stud"
   ]
  },
  {
   "cell_type": "code",
   "execution_count": null,
   "id": "1c1d631c",
   "metadata": {},
   "outputs": [],
   "source": [
    "type(name_stud)"
   ]
  },
  {
   "cell_type": "code",
   "execution_count": null,
   "id": "f64faa08",
   "metadata": {},
   "outputs": [],
   "source": [
    "stripped_name = name_stud.strip()"
   ]
  },
  {
   "cell_type": "code",
   "execution_count": null,
   "id": "1c8b3ccf",
   "metadata": {},
   "outputs": [],
   "source": [
    "stripped_name"
   ]
  },
  {
   "cell_type": "code",
   "execution_count": null,
   "id": "875cebc4",
   "metadata": {},
   "outputs": [],
   "source": [
    "# find string methods\n",
    "dir(name_stud)"
   ]
  },
  {
   "cell_type": "code",
   "execution_count": null,
   "id": "4f0a0b81",
   "metadata": {},
   "outputs": [],
   "source": [
    "name_stud.strip??"
   ]
  },
  {
   "cell_type": "code",
   "execution_count": null,
   "id": "47df64e2",
   "metadata": {},
   "outputs": [],
   "source": [
    "'elsie'.capitalize()"
   ]
  },
  {
   "cell_type": "code",
   "execution_count": null,
   "id": "0ed378f1",
   "metadata": {},
   "outputs": [],
   "source": [
    "'elsie'.count('e')"
   ]
  },
  {
   "cell_type": "code",
   "execution_count": null,
   "id": "ea25833d",
   "metadata": {},
   "outputs": [],
   "source": [
    "'ismail is learning python'.capitalize()"
   ]
  },
  {
   "cell_type": "code",
   "execution_count": null,
   "id": "7aa7bf91",
   "metadata": {},
   "outputs": [],
   "source": [
    "'ismail is learning python'.title()"
   ]
  },
  {
   "cell_type": "code",
   "execution_count": null,
   "id": "270b4562",
   "metadata": {},
   "outputs": [],
   "source": [
    "# Number of characters in the string: multiline\n",
    "len(multiline)"
   ]
  },
  {
   "cell_type": "code",
   "execution_count": null,
   "id": "c6a2f6cb",
   "metadata": {},
   "outputs": [],
   "source": [
    "len(fullname)"
   ]
  },
  {
   "cell_type": "code",
   "execution_count": null,
   "id": "de10b01f",
   "metadata": {},
   "outputs": [],
   "source": [
    "# how does split method work? apply it on the multiline variable\n",
    "print(multiline)\n",
    "multiline.split()"
   ]
  },
  {
   "cell_type": "code",
   "execution_count": null,
   "id": "98dfcd5f",
   "metadata": {},
   "outputs": [],
   "source": [
    "greeting = 'hello all, welcome to python 101'\n",
    "print(greeting)\n",
    "greeting.split()"
   ]
  },
  {
   "cell_type": "code",
   "execution_count": null,
   "id": "f9c3e3d1",
   "metadata": {},
   "outputs": [],
   "source": [
    "# indexing\n",
    "print(fullname)"
   ]
  },
  {
   "cell_type": "code",
   "execution_count": null,
   "id": "51335ce2",
   "metadata": {},
   "outputs": [],
   "source": [
    "fullname[0]"
   ]
  },
  {
   "cell_type": "code",
   "execution_count": null,
   "id": "2ce241c0",
   "metadata": {},
   "outputs": [],
   "source": [
    "fullname[1]"
   ]
  },
  {
   "cell_type": "code",
   "execution_count": null,
   "id": "a907f91b",
   "metadata": {},
   "outputs": [],
   "source": [
    "fullname[-1]"
   ]
  },
  {
   "cell_type": "code",
   "execution_count": null,
   "id": "0a064afe",
   "metadata": {},
   "outputs": [],
   "source": [
    "# slicing a string\n",
    "print(fullname[0:6])"
   ]
  },
  {
   "cell_type": "code",
   "execution_count": null,
   "id": "fe7eb940",
   "metadata": {},
   "outputs": [],
   "source": [
    "print(fullname[0], fullname[7])"
   ]
  },
  {
   "cell_type": "code",
   "execution_count": null,
   "id": "df8ad4a6",
   "metadata": {
    "scrolled": true
   },
   "outputs": [],
   "source": [
    "fullname_list = fullname.split()"
   ]
  },
  {
   "cell_type": "code",
   "execution_count": null,
   "id": "45441295",
   "metadata": {},
   "outputs": [],
   "source": [
    "print(fullname_list[0][0] , fullname_list[1][0], sep='.')"
   ]
  },
  {
   "cell_type": "code",
   "execution_count": null,
   "id": "46084811",
   "metadata": {},
   "outputs": [],
   "source": [
    "paragraph = 'Tommy is a good boy'"
   ]
  },
  {
   "cell_type": "code",
   "execution_count": null,
   "id": "b3820995",
   "metadata": {},
   "outputs": [],
   "source": [
    "paragraph.upper().split()"
   ]
  },
  {
   "cell_type": "code",
   "execution_count": 4,
   "id": "4507bd1a",
   "metadata": {},
   "outputs": [
    {
     "name": "stdout",
     "output_type": "stream",
     "text": [
      "Enter your Fullname: hello World\n"
     ]
    }
   ],
   "source": [
    "fullname = input('Enter your Fullname: ')"
   ]
  },
  {
   "cell_type": "code",
   "execution_count": 5,
   "id": "c68f32f6",
   "metadata": {},
   "outputs": [
    {
     "data": {
      "text/plain": [
       "'hello World'"
      ]
     },
     "execution_count": 5,
     "metadata": {},
     "output_type": "execute_result"
    }
   ],
   "source": [
    "fullname"
   ]
  },
  {
   "cell_type": "code",
   "execution_count": 10,
   "id": "97426314",
   "metadata": {},
   "outputs": [
    {
     "name": "stdout",
     "output_type": "stream",
     "text": [
      "Enter your Fullname: John ODe\n",
      "Hey John ODe! Your initials are: J  O\n"
     ]
    }
   ],
   "source": [
    "fullname = input('Enter your Fullname: ')\n",
    "fullname_list = fullname.split()\n",
    "print(f\"Hey {fullname}! Your initials are: {fullname_list[0][0]}{fullname_list[1][0]}\")"
   ]
  },
  {
   "cell_type": "markdown",
   "id": "c0c8383d",
   "metadata": {},
   "source": [
    "### String Formatting"
   ]
  },
  {
   "cell_type": "code",
   "execution_count": 26,
   "id": "799ba082",
   "metadata": {},
   "outputs": [
    {
     "name": "stdout",
     "output_type": "stream",
     "text": [
      "Hey I am learning JavaScript\n"
     ]
    }
   ],
   "source": [
    "language  = 'JavaScript'\n",
    "print(f'Hey I am learning {language}')"
   ]
  },
  {
   "cell_type": "code",
   "execution_count": 49,
   "id": "4e0f843a",
   "metadata": {},
   "outputs": [
    {
     "name": "stdout",
     "output_type": "stream",
     "text": [
      "JavaScript\n"
     ]
    }
   ],
   "source": [
    "print(language)"
   ]
  },
  {
   "cell_type": "code",
   "execution_count": 50,
   "id": "6d0e6838",
   "metadata": {},
   "outputs": [
    {
     "data": {
      "text/plain": [
       "'Java'"
      ]
     },
     "execution_count": 50,
     "metadata": {},
     "output_type": "execute_result"
    }
   ],
   "source": [
    "language[:4]"
   ]
  },
  {
   "cell_type": "code",
   "execution_count": 47,
   "id": "fe6c09a6",
   "metadata": {},
   "outputs": [
    {
     "data": {
      "text/plain": [
       "'cript'"
      ]
     },
     "execution_count": 47,
     "metadata": {},
     "output_type": "execute_result"
    }
   ],
   "source": [
    "language[5:]"
   ]
  },
  {
   "cell_type": "code",
   "execution_count": 37,
   "id": "f851bafe",
   "metadata": {},
   "outputs": [
    {
     "ename": "SyntaxError",
     "evalue": "invalid syntax (2767537365.py, line 1)",
     "output_type": "error",
     "traceback": [
      "\u001b[1;36m  Cell \u001b[1;32mIn[37], line 1\u001b[1;36m\u001b[0m\n\u001b[1;33m    muhammed amasa = True\u001b[0m\n\u001b[1;37m             ^\u001b[0m\n\u001b[1;31mSyntaxError\u001b[0m\u001b[1;31m:\u001b[0m invalid syntax\n"
     ]
    }
   ],
   "source": [
    "muhammed_amasa = True"
   ]
  },
  {
   "cell_type": "code",
   "execution_count": 38,
   "id": "b87dfb24",
   "metadata": {},
   "outputs": [],
   "source": [
    "print = \"Elsie\""
   ]
  },
  {
   "cell_type": "code",
   "execution_count": 41,
   "id": "7c0c9286",
   "metadata": {},
   "outputs": [
    {
     "name": "stdout",
     "output_type": "stream",
     "text": [
      "Muhammed\n"
     ]
    }
   ],
   "source": [
    "print(\"Muhammed\")"
   ]
  },
  {
   "cell_type": "code",
   "execution_count": 40,
   "id": "79e88735",
   "metadata": {},
   "outputs": [],
   "source": [
    "del print"
   ]
  },
  {
   "cell_type": "code",
   "execution_count": 34,
   "id": "b08b66f5",
   "metadata": {},
   "outputs": [
    {
     "name": "stdout",
     "output_type": "stream",
     "text": [
      "It is me\n"
     ]
    }
   ],
   "source": [
    "if muhammed:\n",
    "    print(\"It is me\")"
   ]
  },
  {
   "cell_type": "code",
   "execution_count": 13,
   "id": "34d933d6",
   "metadata": {},
   "outputs": [
    {
     "name": "stdout",
     "output_type": "stream",
     "text": [
      "Hey I am learning Python\n"
     ]
    }
   ],
   "source": [
    "language  = 'Python'\n",
    "print('Hey I am learning %s'% language)"
   ]
  },
  {
   "cell_type": "code",
   "execution_count": 19,
   "id": "4bf6b3f2",
   "metadata": {},
   "outputs": [
    {
     "name": "stdout",
     "output_type": "stream",
     "text": [
      "Hey I am learning Python\n"
     ]
    }
   ],
   "source": [
    "language  = 'Python'\n",
    "print('Hey I am learning {}' .format(language))"
   ]
  },
  {
   "cell_type": "code",
   "execution_count": 77,
   "id": "f8a83a9b",
   "metadata": {},
   "outputs": [
    {
     "name": "stdout",
     "output_type": "stream",
     "text": [
      "Hey I am learning Python\n"
     ]
    }
   ],
   "source": [
    "language  = 'Python'\n",
    "print('Hey I am learning ' + language)"
   ]
  },
  {
   "cell_type": "code",
   "execution_count": 20,
   "id": "64c175f9",
   "metadata": {},
   "outputs": [
    {
     "data": {
      "text/plain": [
       "['John', 'Doe']"
      ]
     },
     "execution_count": 20,
     "metadata": {},
     "output_type": "execute_result"
    }
   ],
   "source": [
    "fullname = ''\n",
    "fullname.split()"
   ]
  },
  {
   "cell_type": "code",
   "execution_count": 23,
   "id": "e0a1840c",
   "metadata": {},
   "outputs": [
    {
     "data": {
      "text/plain": [
       "'D'"
      ]
     },
     "execution_count": 23,
     "metadata": {},
     "output_type": "execute_result"
    }
   ],
   "source": [
    "fullname.split()[1][0]"
   ]
  },
  {
   "cell_type": "code",
   "execution_count": 53,
   "id": "7c047429",
   "metadata": {},
   "outputs": [
    {
     "data": {
      "text/plain": [
       "'rian'"
      ]
     },
     "execution_count": 53,
     "metadata": {},
     "output_type": "execute_result"
    }
   ],
   "source": [
    "long_word = 'presbitarian'\n",
    "long_word[-4:]"
   ]
  },
  {
   "cell_type": "code",
   "execution_count": 57,
   "id": "49db58a5",
   "metadata": {},
   "outputs": [],
   "source": [
    "campus = 'Colab Innovation Campus'"
   ]
  },
  {
   "cell_type": "code",
   "execution_count": 61,
   "id": "b26fda1e",
   "metadata": {},
   "outputs": [],
   "source": [
    "campus_list= campus.split()"
   ]
  },
  {
   "cell_type": "code",
   "execution_count": 62,
   "id": "8fafe4f4",
   "metadata": {},
   "outputs": [
    {
     "data": {
      "text/plain": [
       "list"
      ]
     },
     "execution_count": 62,
     "metadata": {},
     "output_type": "execute_result"
    }
   ],
   "source": [
    "type(campus_list)"
   ]
  },
  {
   "cell_type": "code",
   "execution_count": 63,
   "id": "a396491c",
   "metadata": {},
   "outputs": [
    {
     "data": {
      "text/plain": [
       "['Colab', 'Innovation', 'Campus']"
      ]
     },
     "execution_count": 63,
     "metadata": {},
     "output_type": "execute_result"
    }
   ],
   "source": [
    "campus_list"
   ]
  },
  {
   "cell_type": "code",
   "execution_count": 65,
   "id": "e3e98690",
   "metadata": {},
   "outputs": [
    {
     "data": {
      "text/plain": [
       "str"
      ]
     },
     "execution_count": 65,
     "metadata": {},
     "output_type": "execute_result"
    }
   ],
   "source": [
    "type(campus_list[1])"
   ]
  },
  {
   "cell_type": "code",
   "execution_count": 66,
   "id": "e157acd4",
   "metadata": {},
   "outputs": [
    {
     "data": {
      "text/plain": [
       "10"
      ]
     },
     "execution_count": 66,
     "metadata": {},
     "output_type": "execute_result"
    }
   ],
   "source": [
    "len(campus_list[1])"
   ]
  },
  {
   "cell_type": "code",
   "execution_count": 67,
   "id": "aa4d6a7e",
   "metadata": {},
   "outputs": [
    {
     "data": {
      "text/plain": [
       "3"
      ]
     },
     "execution_count": 67,
     "metadata": {},
     "output_type": "execute_result"
    }
   ],
   "source": [
    "len(campus_list)"
   ]
  },
  {
   "cell_type": "code",
   "execution_count": 72,
   "id": "0be7e291",
   "metadata": {},
   "outputs": [],
   "source": [
    "message = 'One of Pythons strengths is it\\'s diverse community.'\n"
   ]
  },
  {
   "cell_type": "code",
   "execution_count": 70,
   "id": "44179daa",
   "metadata": {},
   "outputs": [
    {
     "ename": "SyntaxError",
     "evalue": "invalid syntax (3432396096.py, line 1)",
     "output_type": "error",
     "traceback": [
      "\u001b[1;36m  Cell \u001b[1;32mIn[70], line 1\u001b[1;36m\u001b[0m\n\u001b[1;33m    &2024 = \"Cohort12\"\u001b[0m\n\u001b[1;37m    ^\u001b[0m\n\u001b[1;31mSyntaxError\u001b[0m\u001b[1;31m:\u001b[0m invalid syntax\n"
     ]
    }
   ],
   "source": [
    "&2024 = \"Cohort12\""
   ]
  },
  {
   "cell_type": "code",
   "execution_count": 73,
   "id": "330987e7",
   "metadata": {
    "collapsed": true,
    "jupyter": {
     "outputs_hidden": true
    }
   },
   "outputs": [
    {
     "data": {
      "text/plain": [
       "['__add__',\n",
       " '__class__',\n",
       " '__contains__',\n",
       " '__delattr__',\n",
       " '__dir__',\n",
       " '__doc__',\n",
       " '__eq__',\n",
       " '__format__',\n",
       " '__ge__',\n",
       " '__getattribute__',\n",
       " '__getitem__',\n",
       " '__getnewargs__',\n",
       " '__getstate__',\n",
       " '__gt__',\n",
       " '__hash__',\n",
       " '__init__',\n",
       " '__init_subclass__',\n",
       " '__iter__',\n",
       " '__le__',\n",
       " '__len__',\n",
       " '__lt__',\n",
       " '__mod__',\n",
       " '__mul__',\n",
       " '__ne__',\n",
       " '__new__',\n",
       " '__reduce__',\n",
       " '__reduce_ex__',\n",
       " '__repr__',\n",
       " '__rmod__',\n",
       " '__rmul__',\n",
       " '__setattr__',\n",
       " '__sizeof__',\n",
       " '__str__',\n",
       " '__subclasshook__',\n",
       " 'capitalize',\n",
       " 'casefold',\n",
       " 'center',\n",
       " 'count',\n",
       " 'encode',\n",
       " 'endswith',\n",
       " 'expandtabs',\n",
       " 'find',\n",
       " 'format',\n",
       " 'format_map',\n",
       " 'index',\n",
       " 'isalnum',\n",
       " 'isalpha',\n",
       " 'isascii',\n",
       " 'isdecimal',\n",
       " 'isdigit',\n",
       " 'isidentifier',\n",
       " 'islower',\n",
       " 'isnumeric',\n",
       " 'isprintable',\n",
       " 'isspace',\n",
       " 'istitle',\n",
       " 'isupper',\n",
       " 'join',\n",
       " 'ljust',\n",
       " 'lower',\n",
       " 'lstrip',\n",
       " 'maketrans',\n",
       " 'partition',\n",
       " 'removeprefix',\n",
       " 'removesuffix',\n",
       " 'replace',\n",
       " 'rfind',\n",
       " 'rindex',\n",
       " 'rjust',\n",
       " 'rpartition',\n",
       " 'rsplit',\n",
       " 'rstrip',\n",
       " 'split',\n",
       " 'splitlines',\n",
       " 'startswith',\n",
       " 'strip',\n",
       " 'swapcase',\n",
       " 'title',\n",
       " 'translate',\n",
       " 'upper',\n",
       " 'zfill']"
      ]
     },
     "execution_count": 73,
     "metadata": {},
     "output_type": "execute_result"
    }
   ],
   "source": [
    "dir(message)"
   ]
  },
  {
   "cell_type": "code",
   "execution_count": 74,
   "id": "2ed43c2a",
   "metadata": {},
   "outputs": [
    {
     "data": {
      "text/plain": [
       "'Corab'"
      ]
     },
     "execution_count": 74,
     "metadata": {},
     "output_type": "execute_result"
    }
   ],
   "source": [
    "'Colab'.replace('l', 'r')"
   ]
  },
  {
   "cell_type": "code",
   "execution_count": 76,
   "id": "f01d9ba9",
   "metadata": {},
   "outputs": [
    {
     "data": {
      "text/plain": [
       "'Colab Campus'"
      ]
     },
     "execution_count": 76,
     "metadata": {},
     "output_type": "execute_result"
    }
   ],
   "source": [
    "'Colab ' + 'Campus'"
   ]
  },
  {
   "cell_type": "code",
   "execution_count": 78,
   "id": "3f965411",
   "metadata": {},
   "outputs": [
    {
     "ename": "TypeError",
     "evalue": "unsupported operand type(s) for -: 'str' and 'str'",
     "output_type": "error",
     "traceback": [
      "\u001b[1;31m---------------------------------------------------------------------------\u001b[0m",
      "\u001b[1;31mTypeError\u001b[0m                                 Traceback (most recent call last)",
      "Cell \u001b[1;32mIn[78], line 1\u001b[0m\n\u001b[1;32m----> 1\u001b[0m \u001b[38;5;124m'\u001b[39m\u001b[38;5;124mColab \u001b[39m\u001b[38;5;124m'\u001b[39m \u001b[38;5;241m-\u001b[39m \u001b[38;5;124m'\u001b[39m\u001b[38;5;124mCampus\u001b[39m\u001b[38;5;124m'\u001b[39m\n",
      "\u001b[1;31mTypeError\u001b[0m: unsupported operand type(s) for -: 'str' and 'str'"
     ]
    }
   ],
   "source": [
    "'Colab ' - 'Campus'"
   ]
  },
  {
   "cell_type": "code",
   "execution_count": 79,
   "id": "cff0a152",
   "metadata": {},
   "outputs": [
    {
     "data": {
      "text/plain": [
       "'Colab Colab Colab Colab Colab Colab Colab Colab Colab Colab '"
      ]
     },
     "execution_count": 79,
     "metadata": {},
     "output_type": "execute_result"
    }
   ],
   "source": [
    "'Colab ' * 10"
   ]
  },
  {
   "cell_type": "markdown",
   "id": "e03706ba",
   "metadata": {},
   "source": [
    "### Numeric Data Types"
   ]
  },
  {
   "cell_type": "code",
   "execution_count": 1,
   "id": "2014fb87",
   "metadata": {},
   "outputs": [
    {
     "data": {
      "text/plain": [
       "140"
      ]
     },
     "execution_count": 1,
     "metadata": {},
     "output_type": "execute_result"
    }
   ],
   "source": [
    "70+70"
   ]
  },
  {
   "cell_type": "code",
   "execution_count": null,
   "id": "b5d54260",
   "metadata": {},
   "outputs": [],
   "source": [
    "PEMDAS"
   ]
  },
  {
   "cell_type": "code",
   "execution_count": 2,
   "id": "15a86146",
   "metadata": {},
   "outputs": [
    {
     "data": {
      "text/plain": [
       "-3"
      ]
     },
     "execution_count": 2,
     "metadata": {},
     "output_type": "execute_result"
    }
   ],
   "source": [
    "(5-6)*3"
   ]
  },
  {
   "cell_type": "code",
   "execution_count": 3,
   "id": "d7cffad0",
   "metadata": {},
   "outputs": [
    {
     "data": {
      "text/plain": [
       "int"
      ]
     },
     "execution_count": 3,
     "metadata": {},
     "output_type": "execute_result"
    }
   ],
   "source": [
    "type(70)"
   ]
  },
  {
   "cell_type": "code",
   "execution_count": 4,
   "id": "8a0111d1",
   "metadata": {},
   "outputs": [
    {
     "data": {
      "text/plain": [
       "float"
      ]
     },
     "execution_count": 4,
     "metadata": {},
     "output_type": "execute_result"
    }
   ],
   "source": [
    "type(70.99)"
   ]
  },
  {
   "cell_type": "code",
   "execution_count": null,
   "id": "9b474d84",
   "metadata": {},
   "outputs": [],
   "source": [
    "P - ()\n",
    "E - **\n",
    "M - *\n",
    "D - /\n",
    "A - +\n",
    "S - - "
   ]
  },
  {
   "cell_type": "code",
   "execution_count": 9,
   "id": "44eaa7aa",
   "metadata": {},
   "outputs": [
    {
     "name": "stdout",
     "output_type": "stream",
     "text": [
      "Enter the first number: 140\n",
      "Enter the second number: 20\n",
      "160\n"
     ]
    }
   ],
   "source": [
    "# build a basic calculator by taking user input\n",
    "\n",
    "num1 = int(input('Enter the first number: '))\n",
    "num2 = int(input('Enter the second number: '))\n",
    "result = num1 + num2 \n",
    "print(result)"
   ]
  },
  {
   "cell_type": "code",
   "execution_count": 10,
   "id": "f4ff1bf2",
   "metadata": {},
   "outputs": [
    {
     "data": {
      "text/plain": [
       "int"
      ]
     },
     "execution_count": 10,
     "metadata": {},
     "output_type": "execute_result"
    }
   ],
   "source": [
    "type(2024)"
   ]
  },
  {
   "cell_type": "code",
   "execution_count": 11,
   "id": "dd2a677e",
   "metadata": {},
   "outputs": [
    {
     "name": "stdout",
     "output_type": "stream",
     "text": [
      "Enter year of birth: 2001\n",
      "your age is 23\n"
     ]
    }
   ],
   "source": [
    "dob = int(input('Enter year of birth: '))\n",
    "current_year = 2024\n",
    "age = current_year - dob\n",
    "print(f'your age is {age}')"
   ]
  },
  {
   "cell_type": "code",
   "execution_count": 13,
   "id": "728086cd",
   "metadata": {
    "collapsed": true,
    "jupyter": {
     "outputs_hidden": true
    }
   },
   "outputs": [
    {
     "name": "stdout",
     "output_type": "stream",
     "text": [
      "Enter year of birth: okay\n"
     ]
    },
    {
     "ename": "ValueError",
     "evalue": "invalid literal for int() with base 10: 'okay'",
     "output_type": "error",
     "traceback": [
      "\u001b[1;31m---------------------------------------------------------------------------\u001b[0m",
      "\u001b[1;31mValueError\u001b[0m                                Traceback (most recent call last)",
      "Cell \u001b[1;32mIn[13], line 1\u001b[0m\n\u001b[1;32m----> 1\u001b[0m dob \u001b[38;5;241m=\u001b[39m \u001b[38;5;28mint\u001b[39m(\u001b[38;5;28minput\u001b[39m(\u001b[38;5;124m'\u001b[39m\u001b[38;5;124mEnter year of birth: \u001b[39m\u001b[38;5;124m'\u001b[39m))\n\u001b[0;32m      2\u001b[0m projected_year \u001b[38;5;241m=\u001b[39m \u001b[38;5;28mint\u001b[39m(\u001b[38;5;28minput\u001b[39m(\u001b[38;5;124m'\u001b[39m\u001b[38;5;124mEnter projected year: \u001b[39m\u001b[38;5;124m'\u001b[39m))\n\u001b[0;32m      3\u001b[0m age \u001b[38;5;241m=\u001b[39m projected_year \u001b[38;5;241m-\u001b[39m dob\n",
      "\u001b[1;31mValueError\u001b[0m: invalid literal for int() with base 10: 'okay'"
     ]
    }
   ],
   "source": [
    "dob = int(input('Enter year of birth: '))\n",
    "projected_year = int(input('Enter projected year: '))\n",
    "age = projected_year - dob\n",
    "print(f'in {projected_year}, your age is {age}')"
   ]
  },
  {
   "cell_type": "code",
   "execution_count": 14,
   "id": "28b8eb61",
   "metadata": {},
   "outputs": [
    {
     "name": "stdout",
     "output_type": "stream",
     "text": [
      "How much do you want to convert to USD? 500000\n",
      "312.5USD\n"
     ]
    }
   ],
   "source": [
    "# if the dollar rate is 1 USD - 1600 NGN write a script to convert naira to dollar & dollar to naira\n",
    "\n",
    "naira = float(input('How much do you want to convert to USD? '))\n",
    "dolar_rate = 1600\n",
    "result = naira / dolar_rate\n",
    "print(f'{result} USD')"
   ]
  },
  {
   "cell_type": "code",
   "execution_count": 18,
   "id": "9a05a816",
   "metadata": {
    "scrolled": true
   },
   "outputs": [
    {
     "name": "stdout",
     "output_type": "stream",
     "text": [
      "Enter the currency you wish to convert to (USD/NGN): usd\n",
      "Enter the amount in NGN33000\n",
      "20.625\n"
     ]
    }
   ],
   "source": [
    "currency = input('Enter the currency you wish to convert to (USD/NGN): ').upper()\n",
    "if currency == 'USD':\n",
    "    amount = float(input('Enter the amount in NGN'))\n",
    "    print(amount / 1600)\n",
    "elif currency == 'NGN':\n",
    "    amount = float(input('Enter the amount in USD: '))\n",
    "    print(amount * 1600)\n",
    "else:\n",
    "    print('Invalid Currency')"
   ]
  },
  {
   "cell_type": "markdown",
   "id": "6f89484d",
   "metadata": {},
   "source": [
    "### Calculations in Python"
   ]
  },
  {
   "cell_type": "code",
   "execution_count": 2,
   "id": "0ffa474d",
   "metadata": {},
   "outputs": [
    {
     "data": {
      "text/plain": [
       "9"
      ]
     },
     "execution_count": 2,
     "metadata": {},
     "output_type": "execute_result"
    }
   ],
   "source": [
    "3 * 3"
   ]
  },
  {
   "cell_type": "code",
   "execution_count": 1,
   "id": "9f633e6a",
   "metadata": {},
   "outputs": [
    {
     "data": {
      "text/plain": [
       "12.0"
      ]
     },
     "execution_count": 1,
     "metadata": {},
     "output_type": "execute_result"
    }
   ],
   "source": [
    "144 / 12\n"
   ]
  },
  {
   "cell_type": "code",
   "execution_count": 3,
   "id": "444042b5",
   "metadata": {},
   "outputs": [
    {
     "data": {
      "text/plain": [
       "12"
      ]
     },
     "execution_count": 3,
     "metadata": {},
     "output_type": "execute_result"
    }
   ],
   "source": [
    "# the quotient rounds up and returns an answer without float. However it always retain the original structure of the \n",
    "# expression entered\n",
    "144//12"
   ]
  },
  {
   "cell_type": "code",
   "execution_count": 4,
   "id": "a876f0b8",
   "metadata": {},
   "outputs": [
    {
     "data": {
      "text/plain": [
       "2"
      ]
     },
     "execution_count": 4,
     "metadata": {},
     "output_type": "execute_result"
    }
   ],
   "source": [
    "1565 % 3"
   ]
  },
  {
   "cell_type": "code",
   "execution_count": 5,
   "id": "99017b8e",
   "metadata": {},
   "outputs": [
    {
     "data": {
      "text/plain": [
       "3.142857142857143"
      ]
     },
     "execution_count": 5,
     "metadata": {},
     "output_type": "execute_result"
    }
   ],
   "source": [
    "22/7"
   ]
  },
  {
   "cell_type": "code",
   "execution_count": 7,
   "id": "4752d618",
   "metadata": {},
   "outputs": [
    {
     "data": {
      "text/plain": [
       "1.7728105208558367"
      ]
     },
     "execution_count": 7,
     "metadata": {},
     "output_type": "execute_result"
    }
   ],
   "source": [
    "3.142857142857143 ** 0.5"
   ]
  },
  {
   "cell_type": "code",
   "execution_count": 8,
   "id": "697e9f4f",
   "metadata": {},
   "outputs": [],
   "source": [
    "import math"
   ]
  },
  {
   "cell_type": "code",
   "execution_count": 9,
   "id": "1d4f4c0b",
   "metadata": {},
   "outputs": [
    {
     "data": {
      "text/plain": [
       "3.141592653589793"
      ]
     },
     "execution_count": 9,
     "metadata": {},
     "output_type": "execute_result"
    }
   ],
   "source": [
    "math.pi"
   ]
  },
  {
   "cell_type": "code",
   "execution_count": 13,
   "id": "ac576146",
   "metadata": {},
   "outputs": [
    {
     "data": {
      "text/plain": [
       "1.7724538509055159"
      ]
     },
     "execution_count": 13,
     "metadata": {},
     "output_type": "execute_result"
    }
   ],
   "source": [
    "math.sqrt((math.pi))"
   ]
  },
  {
   "cell_type": "code",
   "execution_count": 14,
   "id": "8fadefb8",
   "metadata": {},
   "outputs": [
    {
     "data": {
      "text/plain": [
       "1560.2948571428572"
      ]
     },
     "execution_count": 14,
     "metadata": {},
     "output_type": "execute_result"
    }
   ],
   "source": [
    "(22/7 + 3.14**2) * 3 / 0.025"
   ]
  },
  {
   "cell_type": "code",
   "execution_count": 17,
   "id": "5cc4c041",
   "metadata": {},
   "outputs": [],
   "source": [
    "calc = ((3/11**0.5)**2 * 0.5 * 7/9)**-1"
   ]
  },
  {
   "cell_type": "code",
   "execution_count": 19,
   "id": "fe5447bb",
   "metadata": {},
   "outputs": [],
   "source": [
    "ans = round (calc, 2)"
   ]
  },
  {
   "cell_type": "code",
   "execution_count": 20,
   "id": "f56d0ce5",
   "metadata": {},
   "outputs": [
    {
     "data": {
      "text/plain": [
       "3.14"
      ]
     },
     "execution_count": 20,
     "metadata": {},
     "output_type": "execute_result"
    }
   ],
   "source": [
    "ans"
   ]
  },
  {
   "cell_type": "code",
   "execution_count": 21,
   "id": "69c7f477",
   "metadata": {},
   "outputs": [
    {
     "data": {
      "text/plain": [
       "3.14"
      ]
     },
     "execution_count": 21,
     "metadata": {},
     "output_type": "execute_result"
    }
   ],
   "source": [
    "round(((3/11**0.5)**2 * 0.5 * 7/9)**-1, 2)"
   ]
  },
  {
   "cell_type": "code",
   "execution_count": 24,
   "id": "e0dbe418",
   "metadata": {},
   "outputs": [
    {
     "data": {
      "text/plain": [
       "'Elsie Elsie Elsie Elsie Elsie Elsie Elsie Elsie Elsie Elsie Elsie Elsie Elsie Elsie Elsie Elsie Elsie Elsie Elsie Elsie Elsie Elsie Elsie Elsie Elsie Elsie Elsie Elsie Elsie Elsie Elsie Elsie Elsie Elsie Elsie Elsie Elsie Elsie Elsie Elsie Elsie Elsie Elsie Elsie Elsie Elsie Elsie Elsie Elsie Elsie Elsie Elsie Elsie Elsie Elsie Elsie Elsie Elsie Elsie Elsie Elsie Elsie Elsie Elsie Elsie Elsie Elsie Elsie Elsie Elsie Elsie Elsie Elsie Elsie Elsie Elsie Elsie Elsie Elsie Elsie Elsie Elsie Elsie Elsie Elsie Elsie Elsie Elsie Elsie Elsie Elsie Elsie Elsie Elsie Elsie Elsie Elsie Elsie Elsie Elsie Elsie Elsie Elsie Elsie Elsie Elsie Elsie Elsie Elsie Elsie Elsie Elsie Elsie Elsie Elsie Elsie Elsie Elsie Elsie Elsie Elsie Elsie Elsie Elsie Elsie Elsie Elsie Elsie Elsie Elsie Elsie Elsie Elsie Elsie Elsie Elsie Elsie Elsie Elsie Elsie Elsie Elsie Elsie Elsie Elsie Elsie Elsie Elsie Elsie Elsie Elsie Elsie Elsie Elsie Elsie Elsie Elsie Elsie Elsie Elsie Elsie Elsie Elsie Elsie Elsie Elsie Elsie Elsie Elsie Elsie Elsie Elsie Elsie Elsie Elsie Elsie Elsie Elsie Elsie Elsie Elsie Elsie Elsie Elsie Elsie Elsie Elsie Elsie Elsie Elsie Elsie Elsie Elsie Elsie Elsie Elsie Elsie Elsie Elsie Elsie Elsie Elsie Elsie Elsie Elsie Elsie Elsie Elsie Elsie Elsie Elsie Elsie Elsie Elsie Elsie Elsie Elsie Elsie Elsie Elsie Elsie Elsie Elsie Elsie Elsie Elsie Elsie Elsie Elsie Elsie Elsie Elsie Elsie Elsie Elsie Elsie Elsie Elsie Elsie Elsie Elsie Elsie Elsie Elsie Elsie Elsie Elsie Elsie Elsie Elsie Elsie Elsie Elsie Elsie Elsie Elsie Elsie Elsie Elsie Elsie Elsie Elsie Elsie Elsie Elsie Elsie Elsie Elsie Elsie Elsie Elsie Elsie Elsie Elsie Elsie Elsie Elsie Elsie Elsie Elsie Elsie Elsie Elsie Elsie Elsie Elsie Elsie Elsie Elsie Elsie Elsie Elsie Elsie Elsie Elsie Elsie Elsie Elsie Elsie Elsie Elsie Elsie Elsie Elsie Elsie Elsie Elsie Elsie Elsie Elsie Elsie Elsie Elsie Elsie Elsie Elsie Elsie Elsie Elsie Elsie Elsie Elsie Elsie Elsie Elsie Elsie Elsie Elsie Elsie Elsie Elsie Elsie Elsie Elsie Elsie Elsie Elsie Elsie Elsie Elsie Elsie Elsie Elsie Elsie Elsie Elsie Elsie Elsie Elsie Elsie Elsie Elsie Elsie Elsie Elsie Elsie Elsie Elsie Elsie Elsie Elsie Elsie Elsie Elsie Elsie Elsie Elsie Elsie Elsie Elsie Elsie Elsie Elsie Elsie Elsie Elsie Elsie Elsie Elsie Elsie Elsie Elsie Elsie Elsie Elsie Elsie Elsie Elsie Elsie Elsie Elsie Elsie Elsie Elsie Elsie Elsie Elsie Elsie Elsie Elsie Elsie Elsie Elsie Elsie Elsie Elsie Elsie Elsie Elsie Elsie Elsie Elsie Elsie Elsie Elsie Elsie Elsie Elsie Elsie Elsie Elsie Elsie Elsie Elsie Elsie Elsie Elsie Elsie Elsie Elsie Elsie Elsie Elsie Elsie Elsie Elsie Elsie Elsie Elsie Elsie Elsie Elsie Elsie Elsie Elsie Elsie Elsie Elsie Elsie Elsie Elsie Elsie Elsie Elsie Elsie Elsie Elsie Elsie Elsie Elsie Elsie Elsie Elsie Elsie Elsie Elsie Elsie Elsie Elsie Elsie Elsie Elsie Elsie Elsie Elsie Elsie Elsie Elsie Elsie Elsie Elsie Elsie Elsie Elsie Elsie Elsie Elsie Elsie Elsie Elsie Elsie Elsie Elsie Elsie Elsie Elsie Elsie Elsie Elsie Elsie '"
      ]
     },
     "execution_count": 24,
     "metadata": {},
     "output_type": "execute_result"
    }
   ],
   "source": [
    "\"Elsie \" * 500"
   ]
  },
  {
   "cell_type": "code",
   "execution_count": 26,
   "id": "9b0de86b",
   "metadata": {},
   "outputs": [
    {
     "name": "stdout",
     "output_type": "stream",
     "text": [
      "Elsie\n",
      "Elsie\n",
      "Elsie\n",
      "Elsie\n",
      "Elsie\n",
      "Elsie\n",
      "Elsie\n",
      "Elsie\n",
      "Elsie\n",
      "Elsie\n",
      "Elsie\n",
      "Elsie\n",
      "Elsie\n",
      "Elsie\n",
      "Elsie\n",
      "Elsie\n",
      "Elsie\n",
      "Elsie\n",
      "Elsie\n",
      "Elsie\n",
      "Elsie\n",
      "Elsie\n",
      "Elsie\n",
      "Elsie\n",
      "Elsie\n",
      "Elsie\n",
      "Elsie\n",
      "Elsie\n",
      "Elsie\n",
      "Elsie\n",
      "Elsie\n",
      "Elsie\n",
      "Elsie\n",
      "Elsie\n",
      "Elsie\n",
      "Elsie\n",
      "Elsie\n",
      "Elsie\n",
      "Elsie\n",
      "Elsie\n",
      "Elsie\n",
      "Elsie\n",
      "Elsie\n",
      "Elsie\n",
      "Elsie\n",
      "Elsie\n",
      "Elsie\n",
      "Elsie\n",
      "Elsie\n",
      "Elsie\n",
      "Elsie\n",
      "Elsie\n",
      "Elsie\n",
      "Elsie\n",
      "Elsie\n",
      "Elsie\n",
      "Elsie\n",
      "Elsie\n",
      "Elsie\n",
      "Elsie\n",
      "Elsie\n",
      "Elsie\n",
      "Elsie\n",
      "Elsie\n",
      "Elsie\n",
      "Elsie\n",
      "Elsie\n",
      "Elsie\n",
      "Elsie\n",
      "Elsie\n",
      "Elsie\n",
      "Elsie\n",
      "Elsie\n",
      "Elsie\n",
      "Elsie\n",
      "Elsie\n",
      "Elsie\n",
      "Elsie\n",
      "Elsie\n",
      "Elsie\n",
      "Elsie\n",
      "Elsie\n",
      "Elsie\n",
      "Elsie\n",
      "Elsie\n",
      "Elsie\n",
      "Elsie\n",
      "Elsie\n",
      "Elsie\n",
      "Elsie\n",
      "Elsie\n",
      "Elsie\n",
      "Elsie\n",
      "Elsie\n",
      "Elsie\n",
      "Elsie\n",
      "Elsie\n",
      "Elsie\n",
      "Elsie\n",
      "Elsie\n",
      "Elsie\n",
      "Elsie\n",
      "Elsie\n",
      "Elsie\n",
      "Elsie\n",
      "Elsie\n",
      "Elsie\n",
      "Elsie\n",
      "Elsie\n",
      "Elsie\n",
      "Elsie\n",
      "Elsie\n",
      "Elsie\n",
      "Elsie\n",
      "Elsie\n",
      "Elsie\n",
      "Elsie\n",
      "Elsie\n",
      "Elsie\n",
      "Elsie\n",
      "Elsie\n",
      "Elsie\n",
      "Elsie\n",
      "Elsie\n",
      "Elsie\n",
      "Elsie\n",
      "Elsie\n",
      "Elsie\n",
      "Elsie\n",
      "Elsie\n",
      "Elsie\n",
      "Elsie\n",
      "Elsie\n",
      "Elsie\n",
      "Elsie\n",
      "Elsie\n",
      "Elsie\n",
      "Elsie\n",
      "Elsie\n",
      "Elsie\n",
      "Elsie\n",
      "Elsie\n",
      "Elsie\n",
      "Elsie\n",
      "Elsie\n",
      "Elsie\n",
      "Elsie\n",
      "Elsie\n",
      "Elsie\n",
      "Elsie\n",
      "Elsie\n",
      "Elsie\n",
      "Elsie\n",
      "Elsie\n",
      "Elsie\n",
      "Elsie\n",
      "Elsie\n",
      "Elsie\n",
      "Elsie\n",
      "Elsie\n",
      "Elsie\n",
      "Elsie\n",
      "Elsie\n",
      "Elsie\n",
      "Elsie\n",
      "Elsie\n",
      "Elsie\n",
      "Elsie\n",
      "Elsie\n",
      "Elsie\n",
      "Elsie\n",
      "Elsie\n",
      "Elsie\n",
      "Elsie\n",
      "Elsie\n",
      "Elsie\n",
      "Elsie\n",
      "Elsie\n",
      "Elsie\n",
      "Elsie\n",
      "Elsie\n",
      "Elsie\n",
      "Elsie\n",
      "Elsie\n",
      "Elsie\n",
      "Elsie\n",
      "Elsie\n",
      "Elsie\n",
      "Elsie\n",
      "Elsie\n",
      "Elsie\n",
      "Elsie\n",
      "Elsie\n",
      "Elsie\n",
      "Elsie\n",
      "Elsie\n",
      "Elsie\n",
      "Elsie\n",
      "Elsie\n",
      "Elsie\n",
      "Elsie\n",
      "Elsie\n",
      "Elsie\n",
      "Elsie\n",
      "Elsie\n",
      "Elsie\n",
      "Elsie\n",
      "Elsie\n",
      "Elsie\n",
      "Elsie\n",
      "Elsie\n",
      "Elsie\n",
      "Elsie\n",
      "Elsie\n",
      "Elsie\n",
      "Elsie\n",
      "Elsie\n",
      "Elsie\n",
      "Elsie\n",
      "Elsie\n",
      "Elsie\n",
      "Elsie\n",
      "Elsie\n",
      "Elsie\n",
      "Elsie\n",
      "Elsie\n",
      "Elsie\n",
      "Elsie\n",
      "Elsie\n",
      "Elsie\n",
      "Elsie\n",
      "Elsie\n",
      "Elsie\n",
      "Elsie\n",
      "Elsie\n",
      "Elsie\n",
      "Elsie\n",
      "Elsie\n",
      "Elsie\n",
      "Elsie\n",
      "Elsie\n",
      "Elsie\n",
      "Elsie\n",
      "Elsie\n",
      "Elsie\n",
      "Elsie\n",
      "Elsie\n",
      "Elsie\n",
      "Elsie\n",
      "Elsie\n",
      "Elsie\n",
      "Elsie\n",
      "Elsie\n",
      "Elsie\n",
      "Elsie\n",
      "Elsie\n",
      "Elsie\n",
      "Elsie\n",
      "Elsie\n",
      "Elsie\n",
      "Elsie\n",
      "Elsie\n",
      "Elsie\n",
      "Elsie\n",
      "Elsie\n",
      "Elsie\n",
      "Elsie\n",
      "Elsie\n",
      "Elsie\n",
      "Elsie\n",
      "Elsie\n",
      "Elsie\n",
      "Elsie\n",
      "Elsie\n",
      "Elsie\n",
      "Elsie\n",
      "Elsie\n",
      "Elsie\n",
      "Elsie\n",
      "Elsie\n",
      "Elsie\n",
      "Elsie\n",
      "Elsie\n",
      "Elsie\n",
      "Elsie\n",
      "Elsie\n",
      "Elsie\n",
      "Elsie\n",
      "Elsie\n",
      "Elsie\n",
      "Elsie\n",
      "Elsie\n",
      "Elsie\n",
      "Elsie\n",
      "Elsie\n",
      "Elsie\n",
      "Elsie\n",
      "Elsie\n",
      "Elsie\n",
      "Elsie\n",
      "Elsie\n",
      "Elsie\n",
      "Elsie\n",
      "Elsie\n",
      "Elsie\n",
      "Elsie\n",
      "Elsie\n",
      "Elsie\n",
      "Elsie\n",
      "Elsie\n",
      "Elsie\n",
      "Elsie\n",
      "Elsie\n",
      "Elsie\n",
      "Elsie\n",
      "Elsie\n",
      "Elsie\n",
      "Elsie\n",
      "Elsie\n",
      "Elsie\n",
      "Elsie\n",
      "Elsie\n",
      "Elsie\n",
      "Elsie\n",
      "Elsie\n",
      "Elsie\n",
      "Elsie\n",
      "Elsie\n",
      "Elsie\n",
      "Elsie\n",
      "Elsie\n",
      "Elsie\n",
      "Elsie\n",
      "Elsie\n",
      "Elsie\n",
      "Elsie\n",
      "Elsie\n",
      "Elsie\n",
      "Elsie\n",
      "Elsie\n",
      "Elsie\n",
      "Elsie\n",
      "Elsie\n",
      "Elsie\n",
      "Elsie\n",
      "Elsie\n",
      "Elsie\n",
      "Elsie\n",
      "Elsie\n",
      "Elsie\n",
      "Elsie\n",
      "Elsie\n",
      "Elsie\n",
      "Elsie\n",
      "Elsie\n",
      "Elsie\n",
      "Elsie\n",
      "Elsie\n",
      "Elsie\n",
      "Elsie\n",
      "Elsie\n",
      "Elsie\n",
      "Elsie\n",
      "Elsie\n",
      "Elsie\n",
      "Elsie\n",
      "Elsie\n",
      "Elsie\n",
      "Elsie\n",
      "Elsie\n",
      "Elsie\n",
      "Elsie\n",
      "Elsie\n",
      "Elsie\n",
      "Elsie\n",
      "Elsie\n",
      "Elsie\n",
      "Elsie\n",
      "Elsie\n",
      "Elsie\n",
      "Elsie\n",
      "Elsie\n",
      "Elsie\n",
      "Elsie\n",
      "Elsie\n",
      "Elsie\n",
      "Elsie\n",
      "Elsie\n",
      "Elsie\n",
      "Elsie\n",
      "Elsie\n",
      "Elsie\n",
      "Elsie\n",
      "Elsie\n",
      "Elsie\n",
      "Elsie\n",
      "Elsie\n",
      "Elsie\n",
      "Elsie\n",
      "Elsie\n",
      "Elsie\n",
      "Elsie\n",
      "Elsie\n",
      "Elsie\n",
      "Elsie\n",
      "Elsie\n",
      "Elsie\n",
      "Elsie\n",
      "Elsie\n",
      "Elsie\n",
      "Elsie\n",
      "Elsie\n",
      "Elsie\n",
      "Elsie\n",
      "Elsie\n",
      "Elsie\n",
      "Elsie\n",
      "Elsie\n",
      "Elsie\n",
      "Elsie\n",
      "Elsie\n",
      "Elsie\n",
      "Elsie\n",
      "Elsie\n",
      "Elsie\n",
      "Elsie\n",
      "Elsie\n",
      "Elsie\n",
      "Elsie\n",
      "Elsie\n",
      "Elsie\n",
      "Elsie\n",
      "Elsie\n",
      "Elsie\n",
      "Elsie\n",
      "Elsie\n",
      "Elsie\n",
      "Elsie\n",
      "Elsie\n",
      "Elsie\n",
      "Elsie\n",
      "Elsie\n",
      "Elsie\n",
      "Elsie\n",
      "Elsie\n",
      "Elsie\n",
      "Elsie\n",
      "Elsie\n",
      "Elsie\n",
      "Elsie\n",
      "Elsie\n",
      "Elsie\n",
      "Elsie\n",
      "Elsie\n",
      "Elsie\n",
      "Elsie\n",
      "Elsie\n",
      "Elsie\n",
      "Elsie\n",
      "Elsie\n",
      "Elsie\n",
      "Elsie\n",
      "Elsie\n",
      "Elsie\n",
      "Elsie\n",
      "Elsie\n",
      "Elsie\n",
      "Elsie\n",
      "Elsie\n",
      "Elsie\n",
      "Elsie\n",
      "Elsie\n",
      "Elsie\n",
      "Elsie\n",
      "Elsie\n",
      "Elsie\n",
      "Elsie\n",
      "Elsie\n",
      "Elsie\n",
      "Elsie\n",
      "Elsie\n",
      "Elsie\n",
      "Elsie\n",
      "Elsie\n",
      "Elsie\n",
      "Elsie\n",
      "Elsie\n",
      "Elsie\n",
      "Elsie\n",
      "Elsie\n",
      "Elsie\n",
      "Elsie\n",
      "Elsie\n",
      "Elsie\n",
      "Elsie\n",
      "Elsie\n",
      "Elsie\n",
      "Elsie\n",
      "Elsie\n",
      "Elsie\n"
     ]
    }
   ],
   "source": [
    "for i in range(500):\n",
    "    print(\"Elsie\")"
   ]
  },
  {
   "cell_type": "code",
   "execution_count": 27,
   "id": "9b0289b0",
   "metadata": {},
   "outputs": [
    {
     "name": "stdout",
     "output_type": "stream",
     "text": [
      "Elsie\n",
      "Elsie\n",
      "Elsie\n",
      "Elsie\n",
      "Elsie\n",
      "Elsie\n",
      "Elsie\n",
      "Elsie\n",
      "Elsie\n",
      "Elsie\n",
      "Elsie\n",
      "Elsie\n",
      "Elsie\n",
      "Elsie\n",
      "Elsie\n",
      "Elsie\n",
      "Elsie\n",
      "Elsie\n",
      "Elsie\n",
      "Elsie\n",
      "Elsie\n",
      "Elsie\n",
      "Elsie\n",
      "Elsie\n",
      "Elsie\n",
      "Elsie\n",
      "Elsie\n",
      "Elsie\n",
      "Elsie\n",
      "Elsie\n",
      "Elsie\n",
      "Elsie\n",
      "Elsie\n",
      "Elsie\n",
      "Elsie\n",
      "Elsie\n",
      "Elsie\n",
      "Elsie\n",
      "Elsie\n",
      "Elsie\n",
      "Elsie\n",
      "Elsie\n",
      "Elsie\n",
      "Elsie\n",
      "Elsie\n",
      "Elsie\n",
      "Elsie\n",
      "Elsie\n",
      "Elsie\n",
      "Elsie\n",
      "Elsie\n",
      "Elsie\n",
      "Elsie\n",
      "Elsie\n",
      "Elsie\n",
      "Elsie\n",
      "Elsie\n",
      "Elsie\n",
      "Elsie\n",
      "Elsie\n",
      "Elsie\n",
      "Elsie\n",
      "Elsie\n",
      "Elsie\n",
      "Elsie\n",
      "Elsie\n",
      "Elsie\n",
      "Elsie\n",
      "Elsie\n",
      "Elsie\n",
      "Elsie\n",
      "Elsie\n",
      "Elsie\n",
      "Elsie\n",
      "Elsie\n",
      "Elsie\n",
      "Elsie\n",
      "Elsie\n",
      "Elsie\n",
      "Elsie\n",
      "Elsie\n",
      "Elsie\n",
      "Elsie\n",
      "Elsie\n",
      "Elsie\n",
      "Elsie\n",
      "Elsie\n",
      "Elsie\n",
      "Elsie\n",
      "Elsie\n",
      "Elsie\n",
      "Elsie\n",
      "Elsie\n",
      "Elsie\n",
      "Elsie\n",
      "Elsie\n",
      "Elsie\n",
      "Elsie\n",
      "Elsie\n",
      "Elsie\n",
      "Elsie\n",
      "Elsie\n",
      "Elsie\n",
      "Elsie\n",
      "Elsie\n",
      "Elsie\n",
      "Elsie\n",
      "Elsie\n",
      "Elsie\n",
      "Elsie\n",
      "Elsie\n",
      "Elsie\n",
      "Elsie\n",
      "Elsie\n",
      "Elsie\n",
      "Elsie\n",
      "Elsie\n",
      "Elsie\n",
      "Elsie\n",
      "Elsie\n",
      "Elsie\n",
      "Elsie\n",
      "Elsie\n",
      "Elsie\n",
      "Elsie\n",
      "Elsie\n",
      "Elsie\n",
      "Elsie\n",
      "Elsie\n",
      "Elsie\n",
      "Elsie\n",
      "Elsie\n",
      "Elsie\n",
      "Elsie\n",
      "Elsie\n",
      "Elsie\n",
      "Elsie\n",
      "Elsie\n",
      "Elsie\n",
      "Elsie\n",
      "Elsie\n",
      "Elsie\n",
      "Elsie\n",
      "Elsie\n",
      "Elsie\n",
      "Elsie\n",
      "Elsie\n",
      "Elsie\n",
      "Elsie\n",
      "Elsie\n",
      "Elsie\n",
      "Elsie\n",
      "Elsie\n",
      "Elsie\n",
      "Elsie\n",
      "Elsie\n",
      "Elsie\n",
      "Elsie\n",
      "Elsie\n",
      "Elsie\n",
      "Elsie\n",
      "Elsie\n",
      "Elsie\n",
      "Elsie\n",
      "Elsie\n",
      "Elsie\n",
      "Elsie\n",
      "Elsie\n",
      "Elsie\n",
      "Elsie\n",
      "Elsie\n",
      "Elsie\n",
      "Elsie\n",
      "Elsie\n",
      "Elsie\n",
      "Elsie\n",
      "Elsie\n",
      "Elsie\n",
      "Elsie\n",
      "Elsie\n",
      "Elsie\n",
      "Elsie\n",
      "Elsie\n",
      "Elsie\n",
      "Elsie\n",
      "Elsie\n",
      "Elsie\n",
      "Elsie\n",
      "Elsie\n",
      "Elsie\n",
      "Elsie\n",
      "Elsie\n",
      "Elsie\n",
      "Elsie\n",
      "Elsie\n",
      "Elsie\n",
      "Elsie\n",
      "Elsie\n",
      "Elsie\n",
      "Elsie\n",
      "Elsie\n",
      "Elsie\n",
      "Elsie\n",
      "Elsie\n",
      "Elsie\n",
      "Elsie\n",
      "Elsie\n",
      "Elsie\n",
      "Elsie\n",
      "Elsie\n",
      "Elsie\n",
      "Elsie\n",
      "Elsie\n",
      "Elsie\n",
      "Elsie\n",
      "Elsie\n",
      "Elsie\n",
      "Elsie\n",
      "Elsie\n",
      "Elsie\n",
      "Elsie\n",
      "Elsie\n",
      "Elsie\n",
      "Elsie\n",
      "Elsie\n",
      "Elsie\n",
      "Elsie\n",
      "Elsie\n",
      "Elsie\n",
      "Elsie\n",
      "Elsie\n",
      "Elsie\n",
      "Elsie\n",
      "Elsie\n",
      "Elsie\n",
      "Elsie\n",
      "Elsie\n",
      "Elsie\n",
      "Elsie\n",
      "Elsie\n",
      "Elsie\n",
      "Elsie\n",
      "Elsie\n",
      "Elsie\n",
      "Elsie\n",
      "Elsie\n",
      "Elsie\n",
      "Elsie\n",
      "Elsie\n",
      "Elsie\n",
      "Elsie\n",
      "Elsie\n",
      "Elsie\n",
      "Elsie\n",
      "Elsie\n",
      "Elsie\n",
      "Elsie\n",
      "Elsie\n",
      "Elsie\n",
      "Elsie\n",
      "Elsie\n",
      "Elsie\n",
      "Elsie\n",
      "Elsie\n",
      "Elsie\n",
      "Elsie\n",
      "Elsie\n",
      "Elsie\n",
      "Elsie\n",
      "Elsie\n",
      "Elsie\n",
      "Elsie\n",
      "Elsie\n",
      "Elsie\n",
      "Elsie\n",
      "Elsie\n",
      "Elsie\n",
      "Elsie\n",
      "Elsie\n",
      "Elsie\n",
      "Elsie\n",
      "Elsie\n",
      "Elsie\n",
      "Elsie\n",
      "Elsie\n",
      "Elsie\n",
      "Elsie\n",
      "Elsie\n",
      "Elsie\n",
      "Elsie\n",
      "Elsie\n",
      "Elsie\n",
      "Elsie\n",
      "Elsie\n",
      "Elsie\n",
      "Elsie\n",
      "Elsie\n",
      "Elsie\n",
      "Elsie\n",
      "Elsie\n",
      "Elsie\n",
      "Elsie\n",
      "Elsie\n",
      "Elsie\n",
      "Elsie\n",
      "Elsie\n",
      "Elsie\n",
      "Elsie\n",
      "Elsie\n",
      "Elsie\n",
      "Elsie\n",
      "Elsie\n",
      "Elsie\n",
      "Elsie\n",
      "Elsie\n",
      "Elsie\n",
      "Elsie\n",
      "Elsie\n",
      "Elsie\n",
      "Elsie\n",
      "Elsie\n",
      "Elsie\n",
      "Elsie\n",
      "Elsie\n",
      "Elsie\n",
      "Elsie\n",
      "Elsie\n",
      "Elsie\n",
      "Elsie\n",
      "Elsie\n",
      "Elsie\n",
      "Elsie\n",
      "Elsie\n",
      "Elsie\n",
      "Elsie\n",
      "Elsie\n",
      "Elsie\n",
      "Elsie\n",
      "Elsie\n",
      "Elsie\n",
      "Elsie\n",
      "Elsie\n",
      "Elsie\n",
      "Elsie\n",
      "Elsie\n",
      "Elsie\n",
      "Elsie\n",
      "Elsie\n",
      "Elsie\n",
      "Elsie\n",
      "Elsie\n",
      "Elsie\n",
      "Elsie\n",
      "Elsie\n",
      "Elsie\n",
      "Elsie\n",
      "Elsie\n",
      "Elsie\n",
      "Elsie\n",
      "Elsie\n",
      "Elsie\n",
      "Elsie\n",
      "Elsie\n",
      "Elsie\n",
      "Elsie\n",
      "Elsie\n",
      "Elsie\n",
      "Elsie\n",
      "Elsie\n",
      "Elsie\n",
      "Elsie\n",
      "Elsie\n",
      "Elsie\n",
      "Elsie\n",
      "Elsie\n",
      "Elsie\n",
      "Elsie\n",
      "Elsie\n",
      "Elsie\n",
      "Elsie\n",
      "Elsie\n",
      "Elsie\n",
      "Elsie\n",
      "Elsie\n",
      "Elsie\n",
      "Elsie\n",
      "Elsie\n",
      "Elsie\n",
      "Elsie\n",
      "Elsie\n",
      "Elsie\n",
      "Elsie\n",
      "Elsie\n",
      "Elsie\n",
      "Elsie\n",
      "Elsie\n",
      "Elsie\n",
      "Elsie\n",
      "Elsie\n",
      "Elsie\n",
      "Elsie\n",
      "Elsie\n",
      "Elsie\n",
      "Elsie\n",
      "Elsie\n",
      "Elsie\n",
      "Elsie\n",
      "Elsie\n",
      "Elsie\n",
      "Elsie\n",
      "Elsie\n",
      "Elsie\n",
      "Elsie\n",
      "Elsie\n",
      "Elsie\n",
      "Elsie\n",
      "Elsie\n",
      "Elsie\n",
      "Elsie\n",
      "Elsie\n",
      "Elsie\n",
      "Elsie\n",
      "Elsie\n",
      "Elsie\n",
      "Elsie\n",
      "Elsie\n",
      "Elsie\n",
      "Elsie\n",
      "Elsie\n",
      "Elsie\n",
      "Elsie\n",
      "Elsie\n",
      "Elsie\n",
      "Elsie\n",
      "Elsie\n",
      "Elsie\n",
      "Elsie\n",
      "Elsie\n",
      "Elsie\n",
      "Elsie\n",
      "Elsie\n",
      "Elsie\n",
      "Elsie\n",
      "Elsie\n",
      "Elsie\n",
      "Elsie\n",
      "Elsie\n",
      "Elsie\n",
      "Elsie\n",
      "Elsie\n",
      "Elsie\n",
      "Elsie\n",
      "Elsie\n",
      "Elsie\n",
      "Elsie\n",
      "Elsie\n",
      "Elsie\n",
      "Elsie\n",
      "Elsie\n",
      "Elsie\n",
      "Elsie\n",
      "Elsie\n",
      "Elsie\n",
      "Elsie\n",
      "Elsie\n",
      "Elsie\n",
      "Elsie\n",
      "Elsie\n",
      "Elsie\n",
      "Elsie\n",
      "Elsie\n",
      "Elsie\n",
      "Elsie\n",
      "Elsie\n",
      "Elsie\n",
      "Elsie\n",
      "Elsie\n",
      "Elsie\n",
      "Elsie\n",
      "Elsie\n",
      "Elsie\n",
      "Elsie\n",
      "Elsie\n",
      "Elsie\n",
      "Elsie\n",
      "Elsie\n",
      "Elsie\n",
      "Elsie\n",
      "Elsie\n",
      "Elsie\n",
      "Elsie\n",
      "Elsie\n",
      "Elsie\n",
      "Elsie\n",
      "Elsie\n",
      "Elsie\n",
      "Elsie\n",
      "Elsie\n",
      "Elsie\n",
      "Elsie\n"
     ]
    }
   ],
   "source": [
    "count = 0\n",
    "while count < 500:\n",
    "    print(\"Elsie\")\n",
    "    count+=1"
   ]
  },
  {
   "cell_type": "code",
   "execution_count": 28,
   "id": "fb18ad56",
   "metadata": {},
   "outputs": [
    {
     "data": {
      "text/plain": [
       "3"
      ]
     },
     "execution_count": 28,
     "metadata": {},
     "output_type": "execute_result"
    }
   ],
   "source": [
    "22//7"
   ]
  },
  {
   "cell_type": "code",
   "execution_count": 37,
   "id": "850f017a",
   "metadata": {},
   "outputs": [],
   "source": [
    "f_name = \"Elsie\"\n",
    "l_name = \"Dickson\""
   ]
  },
  {
   "cell_type": "code",
   "execution_count": 39,
   "id": "32a84547",
   "metadata": {},
   "outputs": [
    {
     "data": {
      "text/plain": [
       "'elsie DICKSON'"
      ]
     },
     "execution_count": 39,
     "metadata": {},
     "output_type": "execute_result"
    }
   ],
   "source": [
    "f_name.lower() + \" \" + l_name.upper()"
   ]
  },
  {
   "cell_type": "code",
   "execution_count": 40,
   "id": "3964ee21",
   "metadata": {},
   "outputs": [
    {
     "data": {
      "text/plain": [
       "5"
      ]
     },
     "execution_count": 40,
     "metadata": {},
     "output_type": "execute_result"
    }
   ],
   "source": [
    "len(f_name)"
   ]
  },
  {
   "cell_type": "code",
   "execution_count": 41,
   "id": "47d93cf7",
   "metadata": {},
   "outputs": [
    {
     "data": {
      "text/plain": [
       "True"
      ]
     },
     "execution_count": 41,
     "metadata": {},
     "output_type": "execute_result"
    }
   ],
   "source": [
    "\"elsie\" != \"Elsie\""
   ]
  },
  {
   "cell_type": "code",
   "execution_count": 1,
   "id": "fda045d3",
   "metadata": {},
   "outputs": [],
   "source": [
    "x = 2**5 \n",
    "y = 130/5 \n",
    "z = 6*7"
   ]
  },
  {
   "cell_type": "code",
   "execution_count": 46,
   "id": "034a811b",
   "metadata": {},
   "outputs": [],
   "source": [
    "x = 2**5\n"
   ]
  },
  {
   "cell_type": "code",
   "execution_count": 47,
   "id": "346594ea",
   "metadata": {},
   "outputs": [
    {
     "data": {
      "text/plain": [
       "32"
      ]
     },
     "execution_count": 47,
     "metadata": {},
     "output_type": "execute_result"
    }
   ],
   "source": [
    "x"
   ]
  },
  {
   "cell_type": "code",
   "execution_count": 48,
   "id": "b2366934",
   "metadata": {},
   "outputs": [
    {
     "data": {
      "text/plain": [
       "26.0"
      ]
     },
     "execution_count": 48,
     "metadata": {},
     "output_type": "execute_result"
    }
   ],
   "source": [
    "y = 130/5"
   ]
  },
  {
   "cell_type": "code",
   "execution_count": 49,
   "id": "cd6b7310",
   "metadata": {},
   "outputs": [
    {
     "data": {
      "text/plain": [
       "42"
      ]
     },
     "execution_count": 49,
     "metadata": {},
     "output_type": "execute_result"
    }
   ],
   "source": [
    "z = 6*7"
   ]
  },
  {
   "cell_type": "markdown",
   "id": "9a0fe6d7",
   "metadata": {},
   "source": [
    "### Tuples"
   ]
  },
  {
   "cell_type": "code",
   "execution_count": 2,
   "id": "922fe27c",
   "metadata": {},
   "outputs": [],
   "source": [
    "attendance = \"Martin\", \"Julius\", \"Justin\", \"Ahmed\", \"Chukwuemeka\", \"Favor\", \"Annointing\", \"Alisson\", \"Abdulhamid\", \"Gideon\", \"Lawrence\", \"Muhammed\", \"Diantu\", \"Funmi\", \"Ismail\""
   ]
  },
  {
   "cell_type": "code",
   "execution_count": 3,
   "id": "c9c58ef7",
   "metadata": {},
   "outputs": [
    {
     "name": "stdout",
     "output_type": "stream",
     "text": [
      "('Martin', 'Julius', 'Justin', 'Ahmed', 'Chukwuemeka', 'Favor', 'Annointing', 'Alisson', 'Abdulhamid', 'Gideon', 'Lawrence', 'Muhammed', 'Diantu', 'Funmi', 'Ismail')\n"
     ]
    }
   ],
   "source": [
    "print(attendance)"
   ]
  },
  {
   "cell_type": "code",
   "execution_count": 4,
   "id": "948553e7",
   "metadata": {},
   "outputs": [
    {
     "data": {
      "text/plain": [
       "15"
      ]
     },
     "execution_count": 4,
     "metadata": {},
     "output_type": "execute_result"
    }
   ],
   "source": [
    "len(attendance)"
   ]
  },
  {
   "cell_type": "code",
   "execution_count": 15,
   "id": "319da74d",
   "metadata": {},
   "outputs": [],
   "source": [
    "attendance_list = attendance = [\"Martin\", \"Julius\", \"Justin\", \"Ahmed\", \"Chukwuemeka\", \"Favor\", \"Annointing\", \"Alisson\", \"Abdulhamid\", \"Gideon\", \"Lawrence\", \"Muhammed\", \"Diantu\", \"Funmi\", \"Ismail\"]"
   ]
  },
  {
   "cell_type": "code",
   "execution_count": 16,
   "id": "ecfcf124",
   "metadata": {},
   "outputs": [
    {
     "name": "stdout",
     "output_type": "stream",
     "text": [
      "['Martin', 'Julius', 'Justin', 'Ahmed', 'Chukwuemeka', 'Favor', 'Annointing', 'Alisson', 'Abdulhamid', 'Gideon', 'Lawrence', 'Muhammed', 'Diantu', 'Funmi', 'Ismail']\n"
     ]
    }
   ],
   "source": [
    "print(attendance_list)"
   ]
  },
  {
   "cell_type": "code",
   "execution_count": 17,
   "id": "f2e8e656",
   "metadata": {},
   "outputs": [
    {
     "data": {
      "text/plain": [
       "list"
      ]
     },
     "execution_count": 17,
     "metadata": {},
     "output_type": "execute_result"
    }
   ],
   "source": [
    "type(attendance_list)"
   ]
  },
  {
   "cell_type": "code",
   "execution_count": 18,
   "id": "c1393ebf",
   "metadata": {},
   "outputs": [
    {
     "data": {
      "text/plain": [
       "'Martin'"
      ]
     },
     "execution_count": 18,
     "metadata": {},
     "output_type": "execute_result"
    }
   ],
   "source": [
    "attendance_list[0]"
   ]
  },
  {
   "cell_type": "markdown",
   "id": "b244a521",
   "metadata": {},
   "source": [
    "### List Methods"
   ]
  },
  {
   "cell_type": "code",
   "execution_count": 19,
   "id": "1e77d2e9",
   "metadata": {},
   "outputs": [
    {
     "data": {
      "text/plain": [
       "['__add__',\n",
       " '__class__',\n",
       " '__class_getitem__',\n",
       " '__contains__',\n",
       " '__delattr__',\n",
       " '__delitem__',\n",
       " '__dir__',\n",
       " '__doc__',\n",
       " '__eq__',\n",
       " '__format__',\n",
       " '__ge__',\n",
       " '__getattribute__',\n",
       " '__getitem__',\n",
       " '__getstate__',\n",
       " '__gt__',\n",
       " '__hash__',\n",
       " '__iadd__',\n",
       " '__imul__',\n",
       " '__init__',\n",
       " '__init_subclass__',\n",
       " '__iter__',\n",
       " '__le__',\n",
       " '__len__',\n",
       " '__lt__',\n",
       " '__mul__',\n",
       " '__ne__',\n",
       " '__new__',\n",
       " '__reduce__',\n",
       " '__reduce_ex__',\n",
       " '__repr__',\n",
       " '__reversed__',\n",
       " '__rmul__',\n",
       " '__setattr__',\n",
       " '__setitem__',\n",
       " '__sizeof__',\n",
       " '__str__',\n",
       " '__subclasshook__',\n",
       " 'append',\n",
       " 'clear',\n",
       " 'copy',\n",
       " 'count',\n",
       " 'extend',\n",
       " 'index',\n",
       " 'insert',\n",
       " 'pop',\n",
       " 'remove',\n",
       " 'reverse',\n",
       " 'sort']"
      ]
     },
     "execution_count": 19,
     "metadata": {},
     "output_type": "execute_result"
    }
   ],
   "source": [
    "dir(attendance_list)"
   ]
  },
  {
   "cell_type": "code",
   "execution_count": 21,
   "id": "39dbe51d",
   "metadata": {},
   "outputs": [],
   "source": [
    "attendance_list.sort()"
   ]
  },
  {
   "cell_type": "code",
   "execution_count": 22,
   "id": "6bbed625",
   "metadata": {},
   "outputs": [
    {
     "name": "stdout",
     "output_type": "stream",
     "text": [
      "['Abdulhamid', 'Ahmed', 'Alisson', 'Annointing', 'Chukwuemeka', 'Diantu', 'Favor', 'Funmi', 'Gideon', 'Ismail', 'Julius', 'Justin', 'Lawrence', 'Martin', 'Muhammed']\n"
     ]
    }
   ],
   "source": [
    "print(attendance_list)"
   ]
  },
  {
   "cell_type": "code",
   "execution_count": 24,
   "id": "d4ab1120",
   "metadata": {},
   "outputs": [],
   "source": [
    "attendance_list.append(\"Johnson\")"
   ]
  },
  {
   "cell_type": "code",
   "execution_count": 25,
   "id": "527bc5ed",
   "metadata": {},
   "outputs": [
    {
     "name": "stdout",
     "output_type": "stream",
     "text": [
      "['Abdulhamid', 'Ahmed', 'Alisson', 'Annointing', 'Chukwuemeka', 'Diantu', 'Favor', 'Funmi', 'Gideon', 'Ismail', 'Julius', 'Justin', 'Lawrence', 'Martin', 'Muhammed', 'Johnson']\n"
     ]
    }
   ],
   "source": [
    "print(attendance_list)"
   ]
  },
  {
   "cell_type": "code",
   "execution_count": 26,
   "id": "3f5e63cc",
   "metadata": {},
   "outputs": [],
   "source": [
    "attendance_list.insert(2, \"Boniface\")"
   ]
  },
  {
   "cell_type": "code",
   "execution_count": 29,
   "id": "77a33f1d",
   "metadata": {},
   "outputs": [
    {
     "data": {
      "text/plain": [
       "['Abdulhamid',\n",
       " 'Ahmed',\n",
       " 'Boniface',\n",
       " 'Alisson',\n",
       " 'Annointing',\n",
       " 'Chukwuemeka',\n",
       " 'Diantu',\n",
       " 'Favor',\n",
       " 'Funmi',\n",
       " 'Gideon',\n",
       " 'Ismail',\n",
       " 'Julius',\n",
       " 'Justin',\n",
       " 'Lawrence',\n",
       " 'Martin',\n",
       " 'Muhammed',\n",
       " 'Johnson']"
      ]
     },
     "execution_count": 29,
     "metadata": {},
     "output_type": "execute_result"
    }
   ],
   "source": [
    "attendance_list"
   ]
  },
  {
   "cell_type": "code",
   "execution_count": 30,
   "id": "f392128b",
   "metadata": {},
   "outputs": [],
   "source": [
    "attendance_list.extend(['Joshua', 'James', 'Elsie'])"
   ]
  },
  {
   "cell_type": "code",
   "execution_count": 43,
   "id": "17e9670e",
   "metadata": {
    "scrolled": true
   },
   "outputs": [
    {
     "data": {
      "text/plain": [
       "['Abdulhamid',\n",
       " 'Boniface',\n",
       " 'Alisson',\n",
       " 'Annointing',\n",
       " 'Chukwuemeka',\n",
       " 'Diantu',\n",
       " 'Favor',\n",
       " 'Funmi',\n",
       " 'Gideon',\n",
       " 'Ismail',\n",
       " 'Julius',\n",
       " 'Justin',\n",
       " 'Lawrence',\n",
       " 'Martin',\n",
       " 'Muhammed',\n",
       " 'Johnson']"
      ]
     },
     "execution_count": 43,
     "metadata": {},
     "output_type": "execute_result"
    }
   ],
   "source": [
    "attendance_list"
   ]
  },
  {
   "cell_type": "code",
   "execution_count": 44,
   "id": "491f6703",
   "metadata": {},
   "outputs": [
    {
     "data": {
      "text/plain": [
       "'Johnson'"
      ]
     },
     "execution_count": 44,
     "metadata": {},
     "output_type": "execute_result"
    }
   ],
   "source": [
    "attendance_list.pop()"
   ]
  },
  {
   "cell_type": "code",
   "execution_count": 45,
   "id": "d56b6fcd",
   "metadata": {},
   "outputs": [
    {
     "data": {
      "text/plain": [
       "['Abdulhamid',\n",
       " 'Boniface',\n",
       " 'Alisson',\n",
       " 'Annointing',\n",
       " 'Chukwuemeka',\n",
       " 'Diantu',\n",
       " 'Favor',\n",
       " 'Funmi',\n",
       " 'Gideon',\n",
       " 'Ismail',\n",
       " 'Julius',\n",
       " 'Justin',\n",
       " 'Lawrence',\n",
       " 'Martin',\n",
       " 'Muhammed']"
      ]
     },
     "execution_count": 45,
     "metadata": {},
     "output_type": "execute_result"
    }
   ],
   "source": [
    "attendance_list"
   ]
  },
  {
   "cell_type": "code",
   "execution_count": 46,
   "id": "fe3d3740",
   "metadata": {},
   "outputs": [
    {
     "data": {
      "text/plain": [
       "['Abdulhamid',\n",
       " 'Boniface',\n",
       " 'Alisson',\n",
       " 'Annointing',\n",
       " 'Chukwuemeka',\n",
       " 'Diantu',\n",
       " 'Favor',\n",
       " 'Funmi',\n",
       " 'Gideon',\n",
       " 'Ismail',\n",
       " 'Julius',\n",
       " 'Justin',\n",
       " 'Lawrence',\n",
       " 'Martin',\n",
       " 'Muhammed']"
      ]
     },
     "execution_count": 46,
     "metadata": {},
     "output_type": "execute_result"
    }
   ],
   "source": [
    "attendance_list"
   ]
  },
  {
   "cell_type": "markdown",
   "id": "82293b2e",
   "metadata": {},
   "source": [
    "### Augmented assignments : performing an operation and making an assignment on one line."
   ]
  },
  {
   "cell_type": "code",
   "execution_count": 49,
   "id": "fd3ed4b2",
   "metadata": {},
   "outputs": [
    {
     "name": "stdout",
     "output_type": "stream",
     "text": [
      "4\n"
     ]
    }
   ],
   "source": [
    "y = 2\n",
    "y +=2\n",
    "print(y)"
   ]
  },
  {
   "cell_type": "code",
   "execution_count": 58,
   "id": "d8f8ceb0",
   "metadata": {},
   "outputs": [],
   "source": [
    "attendance_list[3] = [4]"
   ]
  },
  {
   "cell_type": "code",
   "execution_count": 64,
   "id": "5eee3f83",
   "metadata": {},
   "outputs": [],
   "source": [
    "attendance_list[3] = 'Anointing'"
   ]
  },
  {
   "cell_type": "code",
   "execution_count": 65,
   "id": "3563cce2",
   "metadata": {},
   "outputs": [],
   "source": [
    "attendance_list.sort()"
   ]
  },
  {
   "cell_type": "code",
   "execution_count": 66,
   "id": "f13b9756",
   "metadata": {},
   "outputs": [
    {
     "data": {
      "text/plain": [
       "['Abdulhamid',\n",
       " 'Alisson',\n",
       " 'Anointing',\n",
       " 'Boniface',\n",
       " 'Chukwuemeka',\n",
       " 'Diantu',\n",
       " 'Favor',\n",
       " 'Funmi',\n",
       " 'Gideon',\n",
       " 'Ismail',\n",
       " 'Julius',\n",
       " 'Justin',\n",
       " 'Lawrence',\n",
       " 'Martin']"
      ]
     },
     "execution_count": 66,
     "metadata": {},
     "output_type": "execute_result"
    }
   ],
   "source": [
    "attendance_list"
   ]
  },
  {
   "cell_type": "code",
   "execution_count": 67,
   "id": "8b3f1506",
   "metadata": {},
   "outputs": [],
   "source": [
    "# reverse\n",
    "attendance_list.reverse()"
   ]
  },
  {
   "cell_type": "code",
   "execution_count": 69,
   "id": "e7101906",
   "metadata": {},
   "outputs": [],
   "source": [
    "attendance_list.append('Pear')"
   ]
  },
  {
   "cell_type": "code",
   "execution_count": 70,
   "id": "2c60894f",
   "metadata": {},
   "outputs": [
    {
     "data": {
      "text/plain": [
       "['Martin',\n",
       " 'Lawrence',\n",
       " 'Justin',\n",
       " 'Julius',\n",
       " 'Ismail',\n",
       " 'Gideon',\n",
       " 'Funmi',\n",
       " 'Favor',\n",
       " 'Diantu',\n",
       " 'Chukwuemeka',\n",
       " 'Boniface',\n",
       " 'Anointing',\n",
       " 'Alisson',\n",
       " 'Abdulhamid',\n",
       " 'Pear']"
      ]
     },
     "execution_count": 70,
     "metadata": {},
     "output_type": "execute_result"
    }
   ],
   "source": [
    "attendance_list"
   ]
  },
  {
   "cell_type": "code",
   "execution_count": 71,
   "id": "82de8293",
   "metadata": {},
   "outputs": [],
   "source": [
    "new_list = ['Mohammed', 12, 15.6, [10, 20, 'Hello'], (4, 5, 6)]"
   ]
  },
  {
   "cell_type": "code",
   "execution_count": 72,
   "id": "e02876c9",
   "metadata": {},
   "outputs": [
    {
     "data": {
      "text/plain": [
       "['Mohammed', 12, 15.6, [10, 20, 'Hello'], (4, 5, 6)]"
      ]
     },
     "execution_count": 72,
     "metadata": {},
     "output_type": "execute_result"
    }
   ],
   "source": [
    "new_list"
   ]
  },
  {
   "cell_type": "code",
   "execution_count": 82,
   "id": "f8644713",
   "metadata": {},
   "outputs": [],
   "source": [
    "people = [['Benjamin', 12, 'Male', 100], ['Gideon', 23, 'Male', 50], ['Dinatu', 15, 'Female', 100]]"
   ]
  },
  {
   "cell_type": "code",
   "execution_count": 87,
   "id": "ce04fa48",
   "metadata": {},
   "outputs": [
    {
     "data": {
      "text/plain": [
       "100"
      ]
     },
     "execution_count": 87,
     "metadata": {},
     "output_type": "execute_result"
    }
   ],
   "source": [
    "people[2][3]"
   ]
  },
  {
   "cell_type": "code",
   "execution_count": 84,
   "id": "214858aa",
   "metadata": {},
   "outputs": [],
   "source": [
    "import pandas as pd\n",
    "df = pd.DataFrame(people, columns = ['Name', 'Age', 'Gender', 'Height'])"
   ]
  },
  {
   "cell_type": "code",
   "execution_count": 85,
   "id": "aff7c184",
   "metadata": {},
   "outputs": [
    {
     "data": {
      "text/html": [
       "<div>\n",
       "<style scoped>\n",
       "    .dataframe tbody tr th:only-of-type {\n",
       "        vertical-align: middle;\n",
       "    }\n",
       "\n",
       "    .dataframe tbody tr th {\n",
       "        vertical-align: top;\n",
       "    }\n",
       "\n",
       "    .dataframe thead th {\n",
       "        text-align: right;\n",
       "    }\n",
       "</style>\n",
       "<table border=\"1\" class=\"dataframe\">\n",
       "  <thead>\n",
       "    <tr style=\"text-align: right;\">\n",
       "      <th></th>\n",
       "      <th>Name</th>\n",
       "      <th>Age</th>\n",
       "      <th>Gender</th>\n",
       "      <th>Height</th>\n",
       "    </tr>\n",
       "  </thead>\n",
       "  <tbody>\n",
       "    <tr>\n",
       "      <th>0</th>\n",
       "      <td>Benjamin</td>\n",
       "      <td>12</td>\n",
       "      <td>Male</td>\n",
       "      <td>100</td>\n",
       "    </tr>\n",
       "    <tr>\n",
       "      <th>1</th>\n",
       "      <td>Gideon</td>\n",
       "      <td>23</td>\n",
       "      <td>Male</td>\n",
       "      <td>50</td>\n",
       "    </tr>\n",
       "    <tr>\n",
       "      <th>2</th>\n",
       "      <td>Dinatu</td>\n",
       "      <td>15</td>\n",
       "      <td>Female</td>\n",
       "      <td>100</td>\n",
       "    </tr>\n",
       "  </tbody>\n",
       "</table>\n",
       "</div>"
      ],
      "text/plain": [
       "       Name  Age  Gender  Height\n",
       "0  Benjamin   12    Male     100\n",
       "1    Gideon   23    Male      50\n",
       "2    Dinatu   15  Female     100"
      ]
     },
     "execution_count": 85,
     "metadata": {},
     "output_type": "execute_result"
    }
   ],
   "source": [
    "df"
   ]
  },
  {
   "cell_type": "code",
   "execution_count": 88,
   "id": "8d06e374",
   "metadata": {},
   "outputs": [
    {
     "name": "stdout",
     "output_type": "stream",
     "text": [
      "What is your name? ismail\n"
     ]
    }
   ],
   "source": [
    "# write a script that takes a person's name and puts it in a list\n",
    "lst = []\n",
    "name = input('What is your name? ').title()\n",
    "lst.append(name)"
   ]
  },
  {
   "cell_type": "code",
   "execution_count": 89,
   "id": "8e1a78cd",
   "metadata": {},
   "outputs": [
    {
     "data": {
      "text/plain": [
       "['Ismail']"
      ]
     },
     "execution_count": 89,
     "metadata": {},
     "output_type": "execute_result"
    }
   ],
   "source": [
    "lst"
   ]
  },
  {
   "cell_type": "code",
   "execution_count": 95,
   "id": "86c41624",
   "metadata": {},
   "outputs": [],
   "source": [
    "people.extend([[]])"
   ]
  },
  {
   "cell_type": "code",
   "execution_count": 97,
   "id": "54b29e04",
   "metadata": {},
   "outputs": [
    {
     "data": {
      "text/plain": [
       "1"
      ]
     },
     "execution_count": 97,
     "metadata": {},
     "output_type": "execute_result"
    }
   ],
   "source": [
    "people.pop(-2)"
   ]
  },
  {
   "cell_type": "code",
   "execution_count": 98,
   "id": "c1158af4",
   "metadata": {},
   "outputs": [
    {
     "data": {
      "text/plain": [
       "[['Benjamin', 12, 'Male', 100],\n",
       " ['Gideon', 23, 'Male', 50],\n",
       " ['Dinatu', 15, 'Female', 100],\n",
       " []]"
      ]
     },
     "execution_count": 98,
     "metadata": {},
     "output_type": "execute_result"
    }
   ],
   "source": [
    "people"
   ]
  },
  {
   "cell_type": "code",
   "execution_count": 118,
   "id": "96cc7897",
   "metadata": {},
   "outputs": [
    {
     "name": "stdout",
     "output_type": "stream",
     "text": [
      "What is your name? elsie\n",
      "What is your age? 13\n",
      "What is your gender? Female\n",
      "What is your height? 200\n"
     ]
    },
    {
     "data": {
      "text/html": [
       "<div>\n",
       "<style scoped>\n",
       "    .dataframe tbody tr th:only-of-type {\n",
       "        vertical-align: middle;\n",
       "    }\n",
       "\n",
       "    .dataframe tbody tr th {\n",
       "        vertical-align: top;\n",
       "    }\n",
       "\n",
       "    .dataframe thead th {\n",
       "        text-align: right;\n",
       "    }\n",
       "</style>\n",
       "<table border=\"1\" class=\"dataframe\">\n",
       "  <thead>\n",
       "    <tr style=\"text-align: right;\">\n",
       "      <th></th>\n",
       "      <th>Name</th>\n",
       "      <th>Age</th>\n",
       "      <th>Gender</th>\n",
       "      <th>Height</th>\n",
       "    </tr>\n",
       "  </thead>\n",
       "  <tbody>\n",
       "    <tr>\n",
       "      <th>0</th>\n",
       "      <td>Benjamin</td>\n",
       "      <td>12</td>\n",
       "      <td>Male</td>\n",
       "      <td>100.0</td>\n",
       "    </tr>\n",
       "    <tr>\n",
       "      <th>1</th>\n",
       "      <td>Gideon</td>\n",
       "      <td>23</td>\n",
       "      <td>Male</td>\n",
       "      <td>50.0</td>\n",
       "    </tr>\n",
       "    <tr>\n",
       "      <th>2</th>\n",
       "      <td>Dinatu</td>\n",
       "      <td>15</td>\n",
       "      <td>Female</td>\n",
       "      <td>100.0</td>\n",
       "    </tr>\n",
       "    <tr>\n",
       "      <th>3</th>\n",
       "      <td>Joshua</td>\n",
       "      <td>7</td>\n",
       "      <td>Male</td>\n",
       "      <td>120.0</td>\n",
       "    </tr>\n",
       "    <tr>\n",
       "      <th>4</th>\n",
       "      <td>Ismail</td>\n",
       "      <td>13</td>\n",
       "      <td>Male</td>\n",
       "      <td>120.0</td>\n",
       "    </tr>\n",
       "    <tr>\n",
       "      <th>5</th>\n",
       "      <td>Anointing</td>\n",
       "      <td>18</td>\n",
       "      <td>Female</td>\n",
       "      <td>130.0</td>\n",
       "    </tr>\n",
       "    <tr>\n",
       "      <th>6</th>\n",
       "      <td>Alisson</td>\n",
       "      <td>19</td>\n",
       "      <td>Male</td>\n",
       "      <td>129.0</td>\n",
       "    </tr>\n",
       "    <tr>\n",
       "      <th>7</th>\n",
       "      <td>Alisson</td>\n",
       "      <td>20</td>\n",
       "      <td>Male</td>\n",
       "      <td>290.0</td>\n",
       "    </tr>\n",
       "    <tr>\n",
       "      <th>8</th>\n",
       "      <td>Elsie</td>\n",
       "      <td>13</td>\n",
       "      <td>Female</td>\n",
       "      <td>200.0</td>\n",
       "    </tr>\n",
       "  </tbody>\n",
       "</table>\n",
       "</div>"
      ],
      "text/plain": [
       "        Name  Age  Gender  Height\n",
       "0   Benjamin   12    Male   100.0\n",
       "1     Gideon   23    Male    50.0\n",
       "2     Dinatu   15  Female   100.0\n",
       "3     Joshua    7    Male   120.0\n",
       "4     Ismail   13    Male   120.0\n",
       "5  Anointing   18  Female   130.0\n",
       "6    Alisson   19    Male   129.0\n",
       "7    Alisson   20    Male   290.0\n",
       "8      Elsie   13  Female   200.0"
      ]
     },
     "execution_count": 118,
     "metadata": {},
     "output_type": "execute_result"
    }
   ],
   "source": [
    "people.extend([[]])\n",
    "name = input('What is your name? ').title()\n",
    "age = int(input('What is your age? '))\n",
    "gender = input('What is your gender? ').title()\n",
    "height = float(input('What is your height? '))\n",
    "people[-1].extend([name, age, gender, height])\n",
    "\n",
    "import pandas as pd\n",
    "df = pd.DataFrame(people, columns = ['Name', 'Age', 'Gender', 'Height'])\n",
    "df"
   ]
  },
  {
   "cell_type": "code",
   "execution_count": 115,
   "id": "8fa33d2d",
   "metadata": {},
   "outputs": [
    {
     "data": {
      "text/html": [
       "<div>\n",
       "<style scoped>\n",
       "    .dataframe tbody tr th:only-of-type {\n",
       "        vertical-align: middle;\n",
       "    }\n",
       "\n",
       "    .dataframe tbody tr th {\n",
       "        vertical-align: top;\n",
       "    }\n",
       "\n",
       "    .dataframe thead th {\n",
       "        text-align: right;\n",
       "    }\n",
       "</style>\n",
       "<table border=\"1\" class=\"dataframe\">\n",
       "  <thead>\n",
       "    <tr style=\"text-align: right;\">\n",
       "      <th></th>\n",
       "      <th>Name</th>\n",
       "      <th>Age</th>\n",
       "      <th>Gender</th>\n",
       "      <th>Height</th>\n",
       "    </tr>\n",
       "  </thead>\n",
       "  <tbody>\n",
       "    <tr>\n",
       "      <th>0</th>\n",
       "      <td>Benjamin</td>\n",
       "      <td>12</td>\n",
       "      <td>Male</td>\n",
       "      <td>100.0</td>\n",
       "    </tr>\n",
       "    <tr>\n",
       "      <th>1</th>\n",
       "      <td>Gideon</td>\n",
       "      <td>23</td>\n",
       "      <td>Male</td>\n",
       "      <td>50.0</td>\n",
       "    </tr>\n",
       "    <tr>\n",
       "      <th>2</th>\n",
       "      <td>Dinatu</td>\n",
       "      <td>15</td>\n",
       "      <td>Female</td>\n",
       "      <td>100.0</td>\n",
       "    </tr>\n",
       "    <tr>\n",
       "      <th>3</th>\n",
       "      <td>Joshua</td>\n",
       "      <td>7</td>\n",
       "      <td>Male</td>\n",
       "      <td>120.0</td>\n",
       "    </tr>\n",
       "    <tr>\n",
       "      <th>4</th>\n",
       "      <td>Ismail</td>\n",
       "      <td>13</td>\n",
       "      <td>Male</td>\n",
       "      <td>120.0</td>\n",
       "    </tr>\n",
       "    <tr>\n",
       "      <th>5</th>\n",
       "      <td>Anointing</td>\n",
       "      <td>18</td>\n",
       "      <td>Female</td>\n",
       "      <td>130.0</td>\n",
       "    </tr>\n",
       "    <tr>\n",
       "      <th>6</th>\n",
       "      <td>Abdulhamid</td>\n",
       "      <td>30</td>\n",
       "      <td>Male</td>\n",
       "      <td>200.0</td>\n",
       "    </tr>\n",
       "  </tbody>\n",
       "</table>\n",
       "</div>"
      ],
      "text/plain": [
       "         Name  Age  Gender  Height\n",
       "0    Benjamin   12    Male   100.0\n",
       "1      Gideon   23    Male    50.0\n",
       "2      Dinatu   15  Female   100.0\n",
       "3      Joshua    7    Male   120.0\n",
       "4      Ismail   13    Male   120.0\n",
       "5   Anointing   18  Female   130.0\n",
       "6  Abdulhamid   30    Male   200.0"
      ]
     },
     "execution_count": 115,
     "metadata": {},
     "output_type": "execute_result"
    }
   ],
   "source": [
    "df"
   ]
  },
  {
   "cell_type": "code",
   "execution_count": 110,
   "id": "ddae5526",
   "metadata": {
    "scrolled": true
   },
   "outputs": [],
   "source": [
    "people[5][1] = 18"
   ]
  },
  {
   "cell_type": "code",
   "execution_count": 117,
   "id": "fdbfe584",
   "metadata": {},
   "outputs": [
    {
     "data": {
      "text/plain": [
       "['Abdulhamid', 30, 'Male', 200.0, 'Alisson', 19, 'Male', 129.0]"
      ]
     },
     "execution_count": 117,
     "metadata": {},
     "output_type": "execute_result"
    }
   ],
   "source": [
    "people.pop(-3)"
   ]
  },
  {
   "cell_type": "code",
   "execution_count": 1,
   "id": "481ed737",
   "metadata": {},
   "outputs": [],
   "source": [
    "activities = [['colab DS', 180, 'learning list, tuple etc'], \n",
    "              ['Netflix', 120, 'season 5 brooklyn nine-nine']]"
   ]
  },
  {
   "cell_type": "code",
   "execution_count": 2,
   "id": "94e9b360-7421-43be-97f3-71eefc9419cc",
   "metadata": {},
   "outputs": [],
   "source": [
    "kitchen_tools = ['spoon', 'knives', 'pots', 'frying pan']"
   ]
  },
  {
   "cell_type": "code",
   "execution_count": 3,
   "id": "bf8804a9-89c0-443d-aa20-d625f05bfd3d",
   "metadata": {},
   "outputs": [
    {
     "data": {
      "text/plain": [
       "['spoon', 'knives', 'pots', 'frying pan']"
      ]
     },
     "execution_count": 3,
     "metadata": {},
     "output_type": "execute_result"
    }
   ],
   "source": [
    "kitchen_tools"
   ]
  },
  {
   "cell_type": "code",
   "execution_count": 7,
   "id": "8997f8df-fd20-45a1-bf42-3b76a0c95a25",
   "metadata": {},
   "outputs": [],
   "source": [
    "kitchen_tools2 = list({'spoon', 'knives', 'pots', 'frying pan'})"
   ]
  },
  {
   "cell_type": "code",
   "execution_count": 8,
   "id": "8c167188-6b4e-4b38-9ea6-02d2af30fb6f",
   "metadata": {},
   "outputs": [
    {
     "data": {
      "text/plain": [
       "['knives', 'spoon', 'pots', 'frying pan']"
      ]
     },
     "execution_count": 8,
     "metadata": {},
     "output_type": "execute_result"
    }
   ],
   "source": [
    "kitchen_tools2"
   ]
  },
  {
   "cell_type": "code",
   "execution_count": 9,
   "id": "c90aa94a-acc9-42a3-8ace-8ec9d965616a",
   "metadata": {},
   "outputs": [],
   "source": [
    "kitchen_tools_tup = tuple({'spoon', 'knives', 'pots', 'frying pan'})"
   ]
  },
  {
   "cell_type": "code",
   "execution_count": 10,
   "id": "4c9c157b-753a-44f2-9157-d4fad75dc45a",
   "metadata": {},
   "outputs": [
    {
     "data": {
      "text/plain": [
       "('knives', 'spoon', 'pots', 'frying pan')"
      ]
     },
     "execution_count": 10,
     "metadata": {},
     "output_type": "execute_result"
    }
   ],
   "source": [
    "kitchen_tools_tup"
   ]
  },
  {
   "cell_type": "code",
   "execution_count": 11,
   "id": "2257d81a-7943-41dc-a07d-613081d64f27",
   "metadata": {},
   "outputs": [],
   "source": [
    "# adding items to a list\n",
    "kitchen_tools.append('Blender')"
   ]
  },
  {
   "cell_type": "code",
   "execution_count": 12,
   "id": "76498025-fcf5-46e0-a057-8be7584a7b9d",
   "metadata": {},
   "outputs": [
    {
     "data": {
      "text/plain": [
       "['spoon', 'knives', 'pots', 'frying pan', 'Blender']"
      ]
     },
     "execution_count": 12,
     "metadata": {},
     "output_type": "execute_result"
    }
   ],
   "source": [
    "kitchen_tools"
   ]
  },
  {
   "cell_type": "code",
   "execution_count": 13,
   "id": "54dba89b-5fe5-4fb1-a065-173b924f8c53",
   "metadata": {},
   "outputs": [],
   "source": [
    "kitchen_tools.insert(0, 'Toaster')"
   ]
  },
  {
   "cell_type": "code",
   "execution_count": 14,
   "id": "26f992af-6d28-480d-92e8-a9c5280258ac",
   "metadata": {},
   "outputs": [
    {
     "data": {
      "text/plain": [
       "['Toaster', 'spoon', 'knives', 'pots', 'frying pan', 'Blender']"
      ]
     },
     "execution_count": 14,
     "metadata": {},
     "output_type": "execute_result"
    }
   ],
   "source": [
    "kitchen_tools"
   ]
  },
  {
   "cell_type": "code",
   "execution_count": 15,
   "id": "859695e9-00f6-43bd-8676-219d482f555d",
   "metadata": {},
   "outputs": [],
   "source": [
    "# remove items from the list\n",
    "kitchen_tools.remove('spoon')"
   ]
  },
  {
   "cell_type": "code",
   "execution_count": 16,
   "id": "bfbcb937-3cfa-4d17-8e17-f7080b4704c7",
   "metadata": {},
   "outputs": [
    {
     "data": {
      "text/plain": [
       "['Toaster', 'knives', 'pots', 'frying pan', 'Blender']"
      ]
     },
     "execution_count": 16,
     "metadata": {},
     "output_type": "execute_result"
    }
   ],
   "source": [
    "kitchen_tools"
   ]
  },
  {
   "cell_type": "code",
   "execution_count": 17,
   "id": "46f51f7f-bab1-483e-a59d-6d8fe342da7c",
   "metadata": {},
   "outputs": [],
   "source": [
    "more_tools = ['fork', 'scissors', 'cooker']\n",
    "#kitchen_tools.append(more_tools)"
   ]
  },
  {
   "cell_type": "code",
   "execution_count": 19,
   "id": "e9f28958-60fc-481c-a2ba-7c267f4bb134",
   "metadata": {},
   "outputs": [
    {
     "data": {
      "text/plain": [
       "['fork', 'scissors', 'cooker']"
      ]
     },
     "execution_count": 19,
     "metadata": {},
     "output_type": "execute_result"
    }
   ],
   "source": [
    "kitchen_tools.pop()"
   ]
  },
  {
   "cell_type": "code",
   "execution_count": 20,
   "id": "42ab80c7-0c0d-442a-abf9-3e261bf66d5e",
   "metadata": {},
   "outputs": [],
   "source": [
    "kitchen_tools.extend(more_tools)"
   ]
  },
  {
   "cell_type": "code",
   "execution_count": 21,
   "id": "87e3776a-dfda-4ac8-8a57-32dda774b827",
   "metadata": {},
   "outputs": [
    {
     "data": {
      "text/plain": [
       "['Toaster',\n",
       " 'knives',\n",
       " 'pots',\n",
       " 'frying pan',\n",
       " 'Blender',\n",
       " 'fork',\n",
       " 'scissors',\n",
       " 'cooker']"
      ]
     },
     "execution_count": 21,
     "metadata": {},
     "output_type": "execute_result"
    }
   ],
   "source": [
    "kitchen_tools"
   ]
  },
  {
   "cell_type": "code",
   "execution_count": 22,
   "id": "b7394f70-cde0-4810-a740-3e9a5eee59fd",
   "metadata": {},
   "outputs": [
    {
     "data": {
      "text/plain": [
       "'Toaster'"
      ]
     },
     "execution_count": 22,
     "metadata": {},
     "output_type": "execute_result"
    }
   ],
   "source": [
    "kitchen_tools.pop(0)"
   ]
  },
  {
   "cell_type": "code",
   "execution_count": 23,
   "id": "4ca7b765-b236-4d60-b968-bdc0632bdb7a",
   "metadata": {},
   "outputs": [
    {
     "data": {
      "text/plain": [
       "['knives', 'pots', 'frying pan', 'Blender', 'fork', 'scissors', 'cooker']"
      ]
     },
     "execution_count": 23,
     "metadata": {},
     "output_type": "execute_result"
    }
   ],
   "source": [
    "kitchen_tools"
   ]
  },
  {
   "cell_type": "code",
   "execution_count": 24,
   "id": "bb5f8bcc-53b5-428f-9c2c-f908db3d6843",
   "metadata": {},
   "outputs": [],
   "source": [
    "properties = [['house 1', 115910, 4, 128], \n",
    "             ['house 2', 48718, 3, 210], \n",
    "             ['house 3', 28977, 2, 58],\n",
    "             ['house 4', 36932, 3, 79],\n",
    "             ['house 5', 89903, 3, 111]]"
   ]
  },
  {
   "cell_type": "code",
   "execution_count": 25,
   "id": "d2f09cd8-8e3d-4dce-99bf-906aa24e67cb",
   "metadata": {},
   "outputs": [
    {
     "data": {
      "text/plain": [
       "['house 3', 28977, 2, 58]"
      ]
     },
     "execution_count": 25,
     "metadata": {},
     "output_type": "execute_result"
    }
   ],
   "source": [
    "properties[2]"
   ]
  },
  {
   "cell_type": "code",
   "execution_count": 27,
   "id": "9900c1fb-5572-412d-80d2-a7ab9cb31cef",
   "metadata": {},
   "outputs": [
    {
     "data": {
      "text/html": [
       "<div>\n",
       "<style scoped>\n",
       "    .dataframe tbody tr th:only-of-type {\n",
       "        vertical-align: middle;\n",
       "    }\n",
       "\n",
       "    .dataframe tbody tr th {\n",
       "        vertical-align: top;\n",
       "    }\n",
       "\n",
       "    .dataframe thead th {\n",
       "        text-align: right;\n",
       "    }\n",
       "</style>\n",
       "<table border=\"1\" class=\"dataframe\">\n",
       "  <thead>\n",
       "    <tr style=\"text-align: right;\">\n",
       "      <th></th>\n",
       "      <th>House_Number</th>\n",
       "      <th>Price_Usd</th>\n",
       "      <th>Num_Rooms</th>\n",
       "      <th>Area(sqm)</th>\n",
       "    </tr>\n",
       "  </thead>\n",
       "  <tbody>\n",
       "    <tr>\n",
       "      <th>0</th>\n",
       "      <td>house 1</td>\n",
       "      <td>115910</td>\n",
       "      <td>4</td>\n",
       "      <td>128</td>\n",
       "    </tr>\n",
       "    <tr>\n",
       "      <th>1</th>\n",
       "      <td>house 2</td>\n",
       "      <td>48718</td>\n",
       "      <td>3</td>\n",
       "      <td>210</td>\n",
       "    </tr>\n",
       "    <tr>\n",
       "      <th>2</th>\n",
       "      <td>house 3</td>\n",
       "      <td>28977</td>\n",
       "      <td>2</td>\n",
       "      <td>58</td>\n",
       "    </tr>\n",
       "    <tr>\n",
       "      <th>3</th>\n",
       "      <td>house 4</td>\n",
       "      <td>36932</td>\n",
       "      <td>3</td>\n",
       "      <td>79</td>\n",
       "    </tr>\n",
       "    <tr>\n",
       "      <th>4</th>\n",
       "      <td>house 5</td>\n",
       "      <td>89903</td>\n",
       "      <td>3</td>\n",
       "      <td>111</td>\n",
       "    </tr>\n",
       "  </tbody>\n",
       "</table>\n",
       "</div>"
      ],
      "text/plain": [
       "  House_Number  Price_Usd  Num_Rooms  Area(sqm)\n",
       "0      house 1     115910          4        128\n",
       "1      house 2      48718          3        210\n",
       "2      house 3      28977          2         58\n",
       "3      house 4      36932          3         79\n",
       "4      house 5      89903          3        111"
      ]
     },
     "execution_count": 27,
     "metadata": {},
     "output_type": "execute_result"
    }
   ],
   "source": [
    "import pandas as pd\n",
    "df = pd.DataFrame(properties, columns = ['House_Number', 'Price_Usd', 'Num_Rooms', 'Area(sqm)'])\n",
    "df"
   ]
  },
  {
   "cell_type": "code",
   "execution_count": 28,
   "id": "e88def31-2b1b-458c-bcd8-0805df250759",
   "metadata": {},
   "outputs": [
    {
     "name": "stdin",
     "output_type": "stream",
     "text": [
      "What is the house name?  house 5\n",
      "What is the house price?  150000\n",
      "how many rooms are in the house?  4\n",
      "how big is the house? (sqm)  150\n"
     ]
    }
   ],
   "source": [
    "properties.extend([[]])\n",
    "\n",
    "name = input('What is the house name? ').title()\n",
    "\n",
    "price = float(input('What is the house price? '))\n",
    "num_room = int(input('how many rooms are in the house? '))\n",
    "area = float(input('how big is the house? (sqm) '))\n",
    "properties[-1].extend([name, price, num_room, area])"
   ]
  },
  {
   "cell_type": "code",
   "execution_count": 35,
   "id": "472c9446-b748-4fa6-a253-a372e2398094",
   "metadata": {},
   "outputs": [
    {
     "data": {
      "text/plain": [
       "[['house 1', 115910, 4, 128],\n",
       " ['house 2', 48718, 3, 210],\n",
       " ['house 3', 28977, 2, 58],\n",
       " ['house 4', 36932, 3, 79],\n",
       " ['house 5', 89903, 3, 111],\n",
       " ['House 6', 150000.0, 4, 150.0]]"
      ]
     },
     "execution_count": 35,
     "metadata": {},
     "output_type": "execute_result"
    }
   ],
   "source": [
    "properties"
   ]
  },
  {
   "cell_type": "code",
   "execution_count": 34,
   "id": "7ec0bae2-404d-466a-b765-df42ce5cae0f",
   "metadata": {},
   "outputs": [],
   "source": [
    "properties[-1][0] = 'House 6'"
   ]
  },
  {
   "cell_type": "code",
   "execution_count": 40,
   "id": "52e9c7b9-290d-4c22-bceb-e8cbc3a7c658",
   "metadata": {},
   "outputs": [],
   "source": [
    "df = pd.DataFrame(properties, columns = ['House_Number', 'Price_Usd', 'Num_Rooms', 'Area(sqm)'])"
   ]
  },
  {
   "cell_type": "code",
   "execution_count": 41,
   "id": "46a1757e-1122-4ced-8998-2c5dbd663fb6",
   "metadata": {},
   "outputs": [
    {
     "data": {
      "text/html": [
       "<div>\n",
       "<style scoped>\n",
       "    .dataframe tbody tr th:only-of-type {\n",
       "        vertical-align: middle;\n",
       "    }\n",
       "\n",
       "    .dataframe tbody tr th {\n",
       "        vertical-align: top;\n",
       "    }\n",
       "\n",
       "    .dataframe thead th {\n",
       "        text-align: right;\n",
       "    }\n",
       "</style>\n",
       "<table border=\"1\" class=\"dataframe\">\n",
       "  <thead>\n",
       "    <tr style=\"text-align: right;\">\n",
       "      <th></th>\n",
       "      <th>House_Number</th>\n",
       "      <th>Price_Usd</th>\n",
       "      <th>Num_Rooms</th>\n",
       "      <th>Area(sqm)</th>\n",
       "    </tr>\n",
       "  </thead>\n",
       "  <tbody>\n",
       "    <tr>\n",
       "      <th>0</th>\n",
       "      <td>house 1</td>\n",
       "      <td>115910.0</td>\n",
       "      <td>4</td>\n",
       "      <td>128.0</td>\n",
       "    </tr>\n",
       "    <tr>\n",
       "      <th>1</th>\n",
       "      <td>house 2</td>\n",
       "      <td>48718.0</td>\n",
       "      <td>3</td>\n",
       "      <td>210.0</td>\n",
       "    </tr>\n",
       "    <tr>\n",
       "      <th>2</th>\n",
       "      <td>house 3</td>\n",
       "      <td>28977.0</td>\n",
       "      <td>2</td>\n",
       "      <td>58.0</td>\n",
       "    </tr>\n",
       "    <tr>\n",
       "      <th>3</th>\n",
       "      <td>house 4</td>\n",
       "      <td>36932.0</td>\n",
       "      <td>3</td>\n",
       "      <td>79.0</td>\n",
       "    </tr>\n",
       "    <tr>\n",
       "      <th>4</th>\n",
       "      <td>house 5</td>\n",
       "      <td>89903.0</td>\n",
       "      <td>3</td>\n",
       "      <td>111.0</td>\n",
       "    </tr>\n",
       "    <tr>\n",
       "      <th>5</th>\n",
       "      <td>House 6</td>\n",
       "      <td>150000.0</td>\n",
       "      <td>4</td>\n",
       "      <td>150.0</td>\n",
       "    </tr>\n",
       "  </tbody>\n",
       "</table>\n",
       "</div>"
      ],
      "text/plain": [
       "  House_Number  Price_Usd  Num_Rooms  Area(sqm)\n",
       "0      house 1   115910.0          4      128.0\n",
       "1      house 2    48718.0          3      210.0\n",
       "2      house 3    28977.0          2       58.0\n",
       "3      house 4    36932.0          3       79.0\n",
       "4      house 5    89903.0          3      111.0\n",
       "5      House 6   150000.0          4      150.0"
      ]
     },
     "execution_count": 41,
     "metadata": {},
     "output_type": "execute_result"
    }
   ],
   "source": [
    "df"
   ]
  },
  {
   "cell_type": "code",
   "execution_count": 42,
   "id": "92f623e4-3f15-4803-b250-4d1befc7fa2b",
   "metadata": {},
   "outputs": [],
   "source": [
    "name = 'Jimmy'"
   ]
  },
  {
   "cell_type": "code",
   "execution_count": 43,
   "id": "e564da41-c6f0-4bb7-90ba-c64342996f56",
   "metadata": {},
   "outputs": [
    {
     "data": {
      "text/plain": [
       "5"
      ]
     },
     "execution_count": 43,
     "metadata": {},
     "output_type": "execute_result"
    }
   ],
   "source": [
    "len(name)"
   ]
  },
  {
   "cell_type": "code",
   "execution_count": 44,
   "id": "6706fdff-5e2f-4a7b-9c2e-33136ae78edc",
   "metadata": {},
   "outputs": [
    {
     "name": "stdout",
     "output_type": "stream",
     "text": [
      "J\n",
      "i\n",
      "m\n",
      "m\n",
      "y\n"
     ]
    }
   ],
   "source": [
    "for char in name:\n",
    "    print(char)"
   ]
  },
  {
   "cell_type": "code",
   "execution_count": 47,
   "id": "a7d105b9-6f9a-483d-9d1c-a38fc403d93c",
   "metadata": {},
   "outputs": [
    {
     "name": "stdout",
     "output_type": "stream",
     "text": [
      "['house 1', 115910, 4, 128]\n",
      "['house 2', 48718, 3, 210]\n",
      "['house 3', 28977, 2, 58]\n",
      "['house 4', 36932, 3, 79]\n",
      "['house 5', 89903, 3, 111]\n",
      "['House 6', 150000.0, 4, 150.0]\n"
     ]
    }
   ],
   "source": [
    "for property in properties:\n",
    "    print(property)"
   ]
  },
  {
   "cell_type": "code",
   "execution_count": 48,
   "id": "f40c3c30-b7c9-46d0-8372-435a11e8672e",
   "metadata": {},
   "outputs": [
    {
     "name": "stdout",
     "output_type": "stream",
     "text": [
      "knives\n",
      "spoon\n",
      "pots\n",
      "frying pan\n"
     ]
    }
   ],
   "source": [
    "for tool in kitchen_tools_tup:\n",
    "    print(tool)"
   ]
  },
  {
   "cell_type": "code",
   "execution_count": 53,
   "id": "4ebdbea3-2a96-41a2-b3aa-b1e999aa7860",
   "metadata": {},
   "outputs": [
    {
     "name": "stdout",
     "output_type": "stream",
     "text": [
      "price: 115910, area: 128\n",
      "price: 48718, area: 210\n",
      "price: 28977, area: 58\n",
      "price: 36932, area: 79\n",
      "price: 89903, area: 111\n",
      "price: 150000.0, area: 150.0\n"
     ]
    }
   ],
   "source": [
    "for property in properties:\n",
    "    print(f'price: {property[1]}, area: {property[3]}')"
   ]
  },
  {
   "cell_type": "code",
   "execution_count": 56,
   "id": "f607fd06-ce9a-4871-b3ac-915e20bee9a5",
   "metadata": {},
   "outputs": [],
   "source": [
    "price_sqm = []\n",
    "for property in properties:\n",
    "    price_per_sqm = property[1]/property[3]\n",
    "    price_sqm.append(price_per_sqm)"
   ]
  },
  {
   "cell_type": "code",
   "execution_count": 57,
   "id": "a816bf0d-88c0-4c89-8703-d1aa404e16f1",
   "metadata": {},
   "outputs": [
    {
     "data": {
      "text/plain": [
       "[905.546875,\n",
       " 231.9904761904762,\n",
       " 499.6034482758621,\n",
       " 467.49367088607596,\n",
       " 809.936936936937,\n",
       " 1000.0]"
      ]
     },
     "execution_count": 57,
     "metadata": {},
     "output_type": "execute_result"
    }
   ],
   "source": [
    "price_sqm"
   ]
  },
  {
   "cell_type": "code",
   "execution_count": 58,
   "id": "f0e97709-c7b1-4d3d-aaf8-456531481e4c",
   "metadata": {},
   "outputs": [
    {
     "data": {
      "text/html": [
       "<div>\n",
       "<style scoped>\n",
       "    .dataframe tbody tr th:only-of-type {\n",
       "        vertical-align: middle;\n",
       "    }\n",
       "\n",
       "    .dataframe tbody tr th {\n",
       "        vertical-align: top;\n",
       "    }\n",
       "\n",
       "    .dataframe thead th {\n",
       "        text-align: right;\n",
       "    }\n",
       "</style>\n",
       "<table border=\"1\" class=\"dataframe\">\n",
       "  <thead>\n",
       "    <tr style=\"text-align: right;\">\n",
       "      <th></th>\n",
       "      <th>House_Number</th>\n",
       "      <th>Price_Usd</th>\n",
       "      <th>Num_Rooms</th>\n",
       "      <th>Area(sqm)</th>\n",
       "    </tr>\n",
       "  </thead>\n",
       "  <tbody>\n",
       "    <tr>\n",
       "      <th>0</th>\n",
       "      <td>house 1</td>\n",
       "      <td>115910.0</td>\n",
       "      <td>4</td>\n",
       "      <td>128.0</td>\n",
       "    </tr>\n",
       "    <tr>\n",
       "      <th>1</th>\n",
       "      <td>house 2</td>\n",
       "      <td>48718.0</td>\n",
       "      <td>3</td>\n",
       "      <td>210.0</td>\n",
       "    </tr>\n",
       "    <tr>\n",
       "      <th>2</th>\n",
       "      <td>house 3</td>\n",
       "      <td>28977.0</td>\n",
       "      <td>2</td>\n",
       "      <td>58.0</td>\n",
       "    </tr>\n",
       "    <tr>\n",
       "      <th>3</th>\n",
       "      <td>house 4</td>\n",
       "      <td>36932.0</td>\n",
       "      <td>3</td>\n",
       "      <td>79.0</td>\n",
       "    </tr>\n",
       "    <tr>\n",
       "      <th>4</th>\n",
       "      <td>house 5</td>\n",
       "      <td>89903.0</td>\n",
       "      <td>3</td>\n",
       "      <td>111.0</td>\n",
       "    </tr>\n",
       "    <tr>\n",
       "      <th>5</th>\n",
       "      <td>House 6</td>\n",
       "      <td>150000.0</td>\n",
       "      <td>4</td>\n",
       "      <td>150.0</td>\n",
       "    </tr>\n",
       "  </tbody>\n",
       "</table>\n",
       "</div>"
      ],
      "text/plain": [
       "  House_Number  Price_Usd  Num_Rooms  Area(sqm)\n",
       "0      house 1   115910.0          4      128.0\n",
       "1      house 2    48718.0          3      210.0\n",
       "2      house 3    28977.0          2       58.0\n",
       "3      house 4    36932.0          3       79.0\n",
       "4      house 5    89903.0          3      111.0\n",
       "5      House 6   150000.0          4      150.0"
      ]
     },
     "execution_count": 58,
     "metadata": {},
     "output_type": "execute_result"
    }
   ],
   "source": [
    "df"
   ]
  },
  {
   "cell_type": "code",
   "execution_count": 59,
   "id": "ae2bc48d-0d2b-4da0-a232-1815df6400cf",
   "metadata": {},
   "outputs": [],
   "source": [
    "df['price_per_sqm'] = price_sqm"
   ]
  },
  {
   "cell_type": "code",
   "execution_count": 60,
   "id": "4ad8cd85-9dd5-4129-b1f8-9f3b89ccf8ea",
   "metadata": {},
   "outputs": [
    {
     "data": {
      "text/html": [
       "<div>\n",
       "<style scoped>\n",
       "    .dataframe tbody tr th:only-of-type {\n",
       "        vertical-align: middle;\n",
       "    }\n",
       "\n",
       "    .dataframe tbody tr th {\n",
       "        vertical-align: top;\n",
       "    }\n",
       "\n",
       "    .dataframe thead th {\n",
       "        text-align: right;\n",
       "    }\n",
       "</style>\n",
       "<table border=\"1\" class=\"dataframe\">\n",
       "  <thead>\n",
       "    <tr style=\"text-align: right;\">\n",
       "      <th></th>\n",
       "      <th>House_Number</th>\n",
       "      <th>Price_Usd</th>\n",
       "      <th>Num_Rooms</th>\n",
       "      <th>Area(sqm)</th>\n",
       "      <th>price_per_sqm</th>\n",
       "    </tr>\n",
       "  </thead>\n",
       "  <tbody>\n",
       "    <tr>\n",
       "      <th>0</th>\n",
       "      <td>house 1</td>\n",
       "      <td>115910.0</td>\n",
       "      <td>4</td>\n",
       "      <td>128.0</td>\n",
       "      <td>905.546875</td>\n",
       "    </tr>\n",
       "    <tr>\n",
       "      <th>1</th>\n",
       "      <td>house 2</td>\n",
       "      <td>48718.0</td>\n",
       "      <td>3</td>\n",
       "      <td>210.0</td>\n",
       "      <td>231.990476</td>\n",
       "    </tr>\n",
       "    <tr>\n",
       "      <th>2</th>\n",
       "      <td>house 3</td>\n",
       "      <td>28977.0</td>\n",
       "      <td>2</td>\n",
       "      <td>58.0</td>\n",
       "      <td>499.603448</td>\n",
       "    </tr>\n",
       "    <tr>\n",
       "      <th>3</th>\n",
       "      <td>house 4</td>\n",
       "      <td>36932.0</td>\n",
       "      <td>3</td>\n",
       "      <td>79.0</td>\n",
       "      <td>467.493671</td>\n",
       "    </tr>\n",
       "    <tr>\n",
       "      <th>4</th>\n",
       "      <td>house 5</td>\n",
       "      <td>89903.0</td>\n",
       "      <td>3</td>\n",
       "      <td>111.0</td>\n",
       "      <td>809.936937</td>\n",
       "    </tr>\n",
       "    <tr>\n",
       "      <th>5</th>\n",
       "      <td>House 6</td>\n",
       "      <td>150000.0</td>\n",
       "      <td>4</td>\n",
       "      <td>150.0</td>\n",
       "      <td>1000.000000</td>\n",
       "    </tr>\n",
       "  </tbody>\n",
       "</table>\n",
       "</div>"
      ],
      "text/plain": [
       "  House_Number  Price_Usd  Num_Rooms  Area(sqm)  price_per_sqm\n",
       "0      house 1   115910.0          4      128.0     905.546875\n",
       "1      house 2    48718.0          3      210.0     231.990476\n",
       "2      house 3    28977.0          2       58.0     499.603448\n",
       "3      house 4    36932.0          3       79.0     467.493671\n",
       "4      house 5    89903.0          3      111.0     809.936937\n",
       "5      House 6   150000.0          4      150.0    1000.000000"
      ]
     },
     "execution_count": 60,
     "metadata": {},
     "output_type": "execute_result"
    }
   ],
   "source": [
    "df"
   ]
  },
  {
   "cell_type": "code",
   "execution_count": 61,
   "id": "f8bc56cf-705f-4970-b0f5-02c44fb1621a",
   "metadata": {},
   "outputs": [
    {
     "data": {
      "text/plain": [
       "Index(['House_Number', 'Price_Usd', 'Num_Rooms', 'Area(sqm)', 'price_per_sqm'], dtype='object')"
      ]
     },
     "execution_count": 61,
     "metadata": {},
     "output_type": "execute_result"
    }
   ],
   "source": [
    "df.columns"
   ]
  },
  {
   "cell_type": "code",
   "execution_count": 63,
   "id": "77ae9af8-592d-4b90-a2d9-95a4c634c016",
   "metadata": {},
   "outputs": [
    {
     "data": {
      "text/html": [
       "<div>\n",
       "<style scoped>\n",
       "    .dataframe tbody tr th:only-of-type {\n",
       "        vertical-align: middle;\n",
       "    }\n",
       "\n",
       "    .dataframe tbody tr th {\n",
       "        vertical-align: top;\n",
       "    }\n",
       "\n",
       "    .dataframe thead th {\n",
       "        text-align: right;\n",
       "    }\n",
       "</style>\n",
       "<table border=\"1\" class=\"dataframe\">\n",
       "  <thead>\n",
       "    <tr style=\"text-align: right;\">\n",
       "      <th></th>\n",
       "      <th>House_Number</th>\n",
       "      <th>Price_Usd</th>\n",
       "      <th>price_per_sqm</th>\n",
       "      <th>Num_Rooms</th>\n",
       "      <th>Area(sqm)</th>\n",
       "    </tr>\n",
       "  </thead>\n",
       "  <tbody>\n",
       "    <tr>\n",
       "      <th>0</th>\n",
       "      <td>house 1</td>\n",
       "      <td>115910.0</td>\n",
       "      <td>905.546875</td>\n",
       "      <td>4</td>\n",
       "      <td>128.0</td>\n",
       "    </tr>\n",
       "    <tr>\n",
       "      <th>1</th>\n",
       "      <td>house 2</td>\n",
       "      <td>48718.0</td>\n",
       "      <td>231.990476</td>\n",
       "      <td>3</td>\n",
       "      <td>210.0</td>\n",
       "    </tr>\n",
       "    <tr>\n",
       "      <th>2</th>\n",
       "      <td>house 3</td>\n",
       "      <td>28977.0</td>\n",
       "      <td>499.603448</td>\n",
       "      <td>2</td>\n",
       "      <td>58.0</td>\n",
       "    </tr>\n",
       "    <tr>\n",
       "      <th>3</th>\n",
       "      <td>house 4</td>\n",
       "      <td>36932.0</td>\n",
       "      <td>467.493671</td>\n",
       "      <td>3</td>\n",
       "      <td>79.0</td>\n",
       "    </tr>\n",
       "    <tr>\n",
       "      <th>4</th>\n",
       "      <td>house 5</td>\n",
       "      <td>89903.0</td>\n",
       "      <td>809.936937</td>\n",
       "      <td>3</td>\n",
       "      <td>111.0</td>\n",
       "    </tr>\n",
       "    <tr>\n",
       "      <th>5</th>\n",
       "      <td>House 6</td>\n",
       "      <td>150000.0</td>\n",
       "      <td>1000.000000</td>\n",
       "      <td>4</td>\n",
       "      <td>150.0</td>\n",
       "    </tr>\n",
       "  </tbody>\n",
       "</table>\n",
       "</div>"
      ],
      "text/plain": [
       "  House_Number  Price_Usd  price_per_sqm  Num_Rooms  Area(sqm)\n",
       "0      house 1   115910.0     905.546875          4      128.0\n",
       "1      house 2    48718.0     231.990476          3      210.0\n",
       "2      house 3    28977.0     499.603448          2       58.0\n",
       "3      house 4    36932.0     467.493671          3       79.0\n",
       "4      house 5    89903.0     809.936937          3      111.0\n",
       "5      House 6   150000.0    1000.000000          4      150.0"
      ]
     },
     "execution_count": 63,
     "metadata": {},
     "output_type": "execute_result"
    }
   ],
   "source": [
    "df[['House_Number', 'Price_Usd', 'price_per_sqm', 'Num_Rooms', 'Area(sqm)']]"
   ]
  },
  {
   "cell_type": "code",
   "execution_count": 65,
   "id": "25f65a13-744f-4af0-b0a4-d344fedc3697",
   "metadata": {},
   "outputs": [],
   "source": [
    "kitchen_dict = {'knife': 5, 'toaster': 1, 'spoon':3}"
   ]
  },
  {
   "cell_type": "code",
   "execution_count": 66,
   "id": "6bb58aca-c99d-4f5c-9da0-95976a96ef7e",
   "metadata": {},
   "outputs": [
    {
     "data": {
      "text/plain": [
       "dict_keys(['knife', 'toaster', 'spoon'])"
      ]
     },
     "execution_count": 66,
     "metadata": {},
     "output_type": "execute_result"
    }
   ],
   "source": [
    "kitchen_dict.keys()"
   ]
  },
  {
   "cell_type": "code",
   "execution_count": 67,
   "id": "4efef82d-6d01-427c-bdc4-08d900f9ca31",
   "metadata": {},
   "outputs": [
    {
     "data": {
      "text/plain": [
       "dict_values([5, 1, 3])"
      ]
     },
     "execution_count": 67,
     "metadata": {},
     "output_type": "execute_result"
    }
   ],
   "source": [
    "kitchen_dict.values()"
   ]
  },
  {
   "cell_type": "code",
   "execution_count": 68,
   "id": "989a00ec-56e1-4213-a50a-8687f9edbabf",
   "metadata": {},
   "outputs": [
    {
     "data": {
      "text/plain": [
       "dict_items([('knife', 5), ('toaster', 1), ('spoon', 3)])"
      ]
     },
     "execution_count": 68,
     "metadata": {},
     "output_type": "execute_result"
    }
   ],
   "source": [
    "kitchen_dict.items()"
   ]
  },
  {
   "cell_type": "code",
   "execution_count": 73,
   "id": "a5ebc3de-d9b4-4b92-85ad-2ecfcbb8b954",
   "metadata": {},
   "outputs": [
    {
     "data": {
      "text/plain": [
       "5"
      ]
     },
     "execution_count": 73,
     "metadata": {},
     "output_type": "execute_result"
    }
   ],
   "source": [
    "kitchen_dict['knife']"
   ]
  },
  {
   "cell_type": "code",
   "execution_count": 74,
   "id": "37ebd792-e920-4d62-8ad8-ac8154316317",
   "metadata": {},
   "outputs": [
    {
     "data": {
      "text/plain": [
       "[['house 1', 115910, 4, 128],\n",
       " ['house 2', 48718, 3, 210],\n",
       " ['house 3', 28977, 2, 58],\n",
       " ['house 4', 36932, 3, 79],\n",
       " ['house 5', 89903, 3, 111],\n",
       " ['House 6', 150000.0, 4, 150.0]]"
      ]
     },
     "execution_count": 74,
     "metadata": {},
     "output_type": "execute_result"
    }
   ],
   "source": [
    "properties"
   ]
  },
  {
   "cell_type": "code",
   "execution_count": 76,
   "id": "2dedc5a8-4c9b-43df-9dff-d6b8e0159869",
   "metadata": {},
   "outputs": [],
   "source": [
    "property_dict = {'house 1': [ 115910, 4, 128],\n",
    " 'house 2': [48718, 3, 210],\n",
    " 'house 3': [28977, 2, 58],\n",
    " 'house 4': [36932, 3, 79],\n",
    " 'house 5': [89903, 3, 111],\n",
    " 'House 6': [150000.0, 4, 150.0]}"
   ]
  },
  {
   "cell_type": "code",
   "execution_count": 78,
   "id": "712b408c-abcc-406f-bc99-866f3f15e50c",
   "metadata": {},
   "outputs": [
    {
     "data": {
      "text/plain": [
       "[115910, 4, 128]"
      ]
     },
     "execution_count": 78,
     "metadata": {},
     "output_type": "execute_result"
    }
   ],
   "source": [
    "property_dict['house 1']"
   ]
  },
  {
   "cell_type": "code",
   "execution_count": 79,
   "id": "bb33bfdb-8da4-4c1b-9981-47c25ebf8ee4",
   "metadata": {},
   "outputs": [
    {
     "name": "stdout",
     "output_type": "stream",
     "text": [
      "houses_rowwise type: <class 'list'>\n",
      "houses_rowwise length: 5\n"
     ]
    },
    {
     "data": {
      "text/plain": [
       "[{'price_approx_usd': 115910.26, 'surface_covered_in_m2': 128, 'rooms': 4},\n",
       " {'price_approx_usd': 48718.17, 'surface_covered_in_m2': 210, 'rooms': 3},\n",
       " {'price_approx_usd': 28977.56, 'surface_covered_in_m2': 58, 'rooms': 2},\n",
       " {'price_approx_usd': 36932.27, 'surface_covered_in_m2': 79, 'rooms': 3},\n",
       " {'price_approx_usd': 83903.51, 'surface_covered_in_m2': 111, 'rooms': 3}]"
      ]
     },
     "execution_count": 79,
     "metadata": {},
     "output_type": "execute_result"
    }
   ],
   "source": [
    "# Declare variable `houses_rowwise`\n",
    "houses_rowwise = [\n",
    "    {\n",
    "        \"price_approx_usd\": 115910.26,\n",
    "        \"surface_covered_in_m2\": 128,\n",
    "        \"rooms\": 4,\n",
    "    },\n",
    "    {\n",
    "        \"price_approx_usd\": 48718.17,\n",
    "        \"surface_covered_in_m2\": 210,\n",
    "        \"rooms\": 3,\n",
    "    },\n",
    "    {\n",
    "        \"price_approx_usd\": 28977.56,\n",
    "        \"surface_covered_in_m2\": 58,\n",
    "        \"rooms\": 2,\n",
    "    },\n",
    "    {\n",
    "        \"price_approx_usd\": 36932.27,\n",
    "        \"surface_covered_in_m2\": 79,\n",
    "        \"rooms\": 3,\n",
    "    },\n",
    "    {\n",
    "        \"price_approx_usd\": 83903.51,\n",
    "        \"surface_covered_in_m2\": 111,\n",
    "        \"rooms\": 3,\n",
    "    },\n",
    "]\n",
    "\n",
    "# Print `houses_rowwise` object type\n",
    "print(\"houses_rowwise type:\", type(houses_rowwise))\n",
    "\n",
    "# Print `houses_rowwise` length\n",
    "print(\"houses_rowwise length:\", len(houses_rowwise))\n",
    "\n",
    "# Get output of `houses_rowwise`\n",
    "houses_rowwise"
   ]
  },
  {
   "cell_type": "code",
   "execution_count": 81,
   "id": "0519f956-50a9-4695-beee-05c7dce0331c",
   "metadata": {},
   "outputs": [],
   "source": [
    "df = pd.DataFrame(houses_rowwise)"
   ]
  },
  {
   "cell_type": "code",
   "execution_count": 82,
   "id": "82491eec-d7bd-4376-a49f-c1402ec2e18f",
   "metadata": {},
   "outputs": [
    {
     "data": {
      "text/html": [
       "<div>\n",
       "<style scoped>\n",
       "    .dataframe tbody tr th:only-of-type {\n",
       "        vertical-align: middle;\n",
       "    }\n",
       "\n",
       "    .dataframe tbody tr th {\n",
       "        vertical-align: top;\n",
       "    }\n",
       "\n",
       "    .dataframe thead th {\n",
       "        text-align: right;\n",
       "    }\n",
       "</style>\n",
       "<table border=\"1\" class=\"dataframe\">\n",
       "  <thead>\n",
       "    <tr style=\"text-align: right;\">\n",
       "      <th></th>\n",
       "      <th>price_approx_usd</th>\n",
       "      <th>surface_covered_in_m2</th>\n",
       "      <th>rooms</th>\n",
       "    </tr>\n",
       "  </thead>\n",
       "  <tbody>\n",
       "    <tr>\n",
       "      <th>0</th>\n",
       "      <td>115910.26</td>\n",
       "      <td>128</td>\n",
       "      <td>4</td>\n",
       "    </tr>\n",
       "    <tr>\n",
       "      <th>1</th>\n",
       "      <td>48718.17</td>\n",
       "      <td>210</td>\n",
       "      <td>3</td>\n",
       "    </tr>\n",
       "    <tr>\n",
       "      <th>2</th>\n",
       "      <td>28977.56</td>\n",
       "      <td>58</td>\n",
       "      <td>2</td>\n",
       "    </tr>\n",
       "    <tr>\n",
       "      <th>3</th>\n",
       "      <td>36932.27</td>\n",
       "      <td>79</td>\n",
       "      <td>3</td>\n",
       "    </tr>\n",
       "    <tr>\n",
       "      <th>4</th>\n",
       "      <td>83903.51</td>\n",
       "      <td>111</td>\n",
       "      <td>3</td>\n",
       "    </tr>\n",
       "  </tbody>\n",
       "</table>\n",
       "</div>"
      ],
      "text/plain": [
       "   price_approx_usd  surface_covered_in_m2  rooms\n",
       "0         115910.26                    128      4\n",
       "1          48718.17                    210      3\n",
       "2          28977.56                     58      2\n",
       "3          36932.27                     79      3\n",
       "4          83903.51                    111      3"
      ]
     },
     "execution_count": 82,
     "metadata": {},
     "output_type": "execute_result"
    }
   ],
   "source": [
    "df"
   ]
  },
  {
   "cell_type": "code",
   "execution_count": 83,
   "id": "b7cdea1b-f7cd-4708-9b8f-07ff147f62b8",
   "metadata": {},
   "outputs": [
    {
     "name": "stdout",
     "output_type": "stream",
     "text": [
      "houses_columnwise type: <class 'dict'>\n"
     ]
    },
    {
     "data": {
      "text/plain": [
       "{'price_approx_usd': [115910.26, 48718.17, 28977.56, 36932.27, 83903.51],\n",
       " 'surface_covered_in_m2': [128.0, 210.0, 58.0, 79.0, 111.0],\n",
       " 'rooms': [4.0, 3.0, 2.0, 3.0, 3.0]}"
      ]
     },
     "execution_count": 83,
     "metadata": {},
     "output_type": "execute_result"
    }
   ],
   "source": [
    "# Declare variable `houses_columnwise`\n",
    "houses_columnwise = {\n",
    "    \"price_approx_usd\": [115910.26, 48718.17, 28977.56, 36932.27, 83903.51],\n",
    "    \"surface_covered_in_m2\": [128.0, 210.0, 58.0, 79.0, 111.0],\n",
    "    \"rooms\": [4.0, 3.0, 2.0, 3.0, 3.0],\n",
    "}\n",
    "\n",
    "# Print `houses_columnwise` object type\n",
    "print(\"houses_columnwise type:\", type(houses_columnwise))\n",
    "\n",
    "# Get output of `houses_columnwise`\n",
    "houses_columnwise"
   ]
  },
  {
   "cell_type": "code",
   "execution_count": 84,
   "id": "598276cd-49f7-43b6-9c27-76660899607b",
   "metadata": {},
   "outputs": [],
   "source": [
    "df2 = pd.DataFrame(houses_columnwise)"
   ]
  },
  {
   "cell_type": "code",
   "execution_count": 85,
   "id": "31588dcc-d416-48f5-972f-eeeef2f2c3ba",
   "metadata": {},
   "outputs": [
    {
     "data": {
      "text/html": [
       "<div>\n",
       "<style scoped>\n",
       "    .dataframe tbody tr th:only-of-type {\n",
       "        vertical-align: middle;\n",
       "    }\n",
       "\n",
       "    .dataframe tbody tr th {\n",
       "        vertical-align: top;\n",
       "    }\n",
       "\n",
       "    .dataframe thead th {\n",
       "        text-align: right;\n",
       "    }\n",
       "</style>\n",
       "<table border=\"1\" class=\"dataframe\">\n",
       "  <thead>\n",
       "    <tr style=\"text-align: right;\">\n",
       "      <th></th>\n",
       "      <th>price_approx_usd</th>\n",
       "      <th>surface_covered_in_m2</th>\n",
       "      <th>rooms</th>\n",
       "    </tr>\n",
       "  </thead>\n",
       "  <tbody>\n",
       "    <tr>\n",
       "      <th>0</th>\n",
       "      <td>115910.26</td>\n",
       "      <td>128.0</td>\n",
       "      <td>4.0</td>\n",
       "    </tr>\n",
       "    <tr>\n",
       "      <th>1</th>\n",
       "      <td>48718.17</td>\n",
       "      <td>210.0</td>\n",
       "      <td>3.0</td>\n",
       "    </tr>\n",
       "    <tr>\n",
       "      <th>2</th>\n",
       "      <td>28977.56</td>\n",
       "      <td>58.0</td>\n",
       "      <td>2.0</td>\n",
       "    </tr>\n",
       "    <tr>\n",
       "      <th>3</th>\n",
       "      <td>36932.27</td>\n",
       "      <td>79.0</td>\n",
       "      <td>3.0</td>\n",
       "    </tr>\n",
       "    <tr>\n",
       "      <th>4</th>\n",
       "      <td>83903.51</td>\n",
       "      <td>111.0</td>\n",
       "      <td>3.0</td>\n",
       "    </tr>\n",
       "  </tbody>\n",
       "</table>\n",
       "</div>"
      ],
      "text/plain": [
       "   price_approx_usd  surface_covered_in_m2  rooms\n",
       "0         115910.26                  128.0    4.0\n",
       "1          48718.17                  210.0    3.0\n",
       "2          28977.56                   58.0    2.0\n",
       "3          36932.27                   79.0    3.0\n",
       "4          83903.51                  111.0    3.0"
      ]
     },
     "execution_count": 85,
     "metadata": {},
     "output_type": "execute_result"
    }
   ],
   "source": [
    "df2"
   ]
  },
  {
   "cell_type": "code",
   "execution_count": 88,
   "id": "02202513-b09f-4255-ba09-0d7487173dd1",
   "metadata": {},
   "outputs": [
    {
     "data": {
      "text/html": [
       "<div>\n",
       "<style scoped>\n",
       "    .dataframe tbody tr th:only-of-type {\n",
       "        vertical-align: middle;\n",
       "    }\n",
       "\n",
       "    .dataframe tbody tr th {\n",
       "        vertical-align: top;\n",
       "    }\n",
       "\n",
       "    .dataframe thead th {\n",
       "        text-align: right;\n",
       "    }\n",
       "</style>\n",
       "<table border=\"1\" class=\"dataframe\">\n",
       "  <thead>\n",
       "    <tr style=\"text-align: right;\">\n",
       "      <th></th>\n",
       "      <th>price_approx_usd</th>\n",
       "      <th>surface_covered_in_m2</th>\n",
       "      <th>rooms</th>\n",
       "    </tr>\n",
       "  </thead>\n",
       "  <tbody>\n",
       "    <tr>\n",
       "      <th>2</th>\n",
       "      <td>28977.56</td>\n",
       "      <td>58</td>\n",
       "      <td>2</td>\n",
       "    </tr>\n",
       "  </tbody>\n",
       "</table>\n",
       "</div>"
      ],
      "text/plain": [
       "   price_approx_usd  surface_covered_in_m2  rooms\n",
       "2          28977.56                     58      2"
      ]
     },
     "execution_count": 88,
     "metadata": {},
     "output_type": "execute_result"
    }
   ],
   "source": [
    "df[df2.price_approx_usd < 30000]"
   ]
  },
  {
   "cell_type": "code",
   "execution_count": 92,
   "id": "7dcd25b7-653f-407c-ab59-807b4f3a1ffb",
   "metadata": {},
   "outputs": [
    {
     "data": {
      "text/html": [
       "<div>\n",
       "<style scoped>\n",
       "    .dataframe tbody tr th:only-of-type {\n",
       "        vertical-align: middle;\n",
       "    }\n",
       "\n",
       "    .dataframe tbody tr th {\n",
       "        vertical-align: top;\n",
       "    }\n",
       "\n",
       "    .dataframe thead th {\n",
       "        text-align: right;\n",
       "    }\n",
       "</style>\n",
       "<table border=\"1\" class=\"dataframe\">\n",
       "  <thead>\n",
       "    <tr style=\"text-align: right;\">\n",
       "      <th></th>\n",
       "      <th>col_1</th>\n",
       "      <th>col_2</th>\n",
       "    </tr>\n",
       "  </thead>\n",
       "  <tbody>\n",
       "    <tr>\n",
       "      <th>0</th>\n",
       "      <td>Math</td>\n",
       "      <td>a</td>\n",
       "    </tr>\n",
       "    <tr>\n",
       "      <th>1</th>\n",
       "      <td>English</td>\n",
       "      <td>b</td>\n",
       "    </tr>\n",
       "    <tr>\n",
       "      <th>2</th>\n",
       "      <td>Biology</td>\n",
       "      <td>c</td>\n",
       "    </tr>\n",
       "    <tr>\n",
       "      <th>3</th>\n",
       "      <td>Commerce</td>\n",
       "      <td>d</td>\n",
       "    </tr>\n",
       "  </tbody>\n",
       "</table>\n",
       "</div>"
      ],
      "text/plain": [
       "      col_1 col_2\n",
       "0      Math     a\n",
       "1   English     b\n",
       "2   Biology     c\n",
       "3  Commerce     d"
      ]
     },
     "execution_count": 92,
     "metadata": {},
     "output_type": "execute_result"
    }
   ],
   "source": [
    "data = {'col_1': ['Math', 'English', 'Biology', 'Commerce'], 'col_2': ['a', 'b', 'c', 'd']}\n",
    "pd.DataFrame.from_dict(data, orient='columns')"
   ]
  },
  {
   "cell_type": "code",
   "execution_count": null,
   "id": "44f536ed-90e6-4d6d-9af2-d26cc4c1670e",
   "metadata": {},
   "outputs": [],
   "source": []
  }
 ],
 "metadata": {
  "kernelspec": {
   "display_name": "Python 3 (ipykernel)",
   "language": "python",
   "name": "python3"
  },
  "language_info": {
   "codemirror_mode": {
    "name": "ipython",
    "version": 3
   },
   "file_extension": ".py",
   "mimetype": "text/x-python",
   "name": "python",
   "nbconvert_exporter": "python",
   "pygments_lexer": "ipython3",
   "version": "3.11.7"
  }
 },
 "nbformat": 4,
 "nbformat_minor": 5
}
